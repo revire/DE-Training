{
 "cells": [
  {
   "cell_type": "markdown",
   "metadata": {
    "collapsed": true,
    "pycharm": {
     "name": "#%% md\n"
    }
   },
   "source": [
    "Домашнее задание включает в себя 2 задачи:\n",
    "Даны 3 колонки с данными: 'Name', 'Start Date' и 'End Date'. 'Name' - уникальное название заявки, пришедшей в центр технической поддержки. 'Start Date' - время поступления заявки. 'End Date' - время обработки заявок.\n",
    "Необходимо рассчитать еще одну колонку - 'Implementation time', показывающую количество рабочих часов (https://en.wikipedia.org/wiki/Business_hours), потраченных на обработку каждой заявки.\n",
    "Рабочие часы начинаются в 08:00 и заканчиваются в 18:00. Рабочая неделя ПН-ПТ, есть праздники (РФ).\n",
    "\n",
    "Пример (Даты в ISO):\n",
    "\n",
    "Name\tStart Date\tEnd Date\tImplementation time\tComment\n",
    "1\t2020-11-01T08:00:00\t2020-11-01T18:00:00\t0\tВыходной\n",
    "2\t2020-11-01T08:00:00\t2020-11-02T09:30:00\t1.5\tВыходной + 1.5 часа в ПН\n",
    "3\t2020-11-01T08:00:00\t2020-11-05T19:00:00\t24\tВыходной + 8 ПН + 8 ВТ + СР - выходной + 8 ЧТ\n",
    "И т.д.\n",
    "\n",
    "Для задания необходимо:\n",
    "\n",
    "Самостоятельно сгенерировать случайные 'Name', 'Start Date' и 'End Date' при условии 01-01-2019 <= 'Start Date' <= 'End Date' < 01-01-2020 (N датасетов, где размер датасета 10^N, N < 8 - натуральное).\n",
    "По исходным данным построить гистограмму \"сколько поступило и обработано заявок по месяцам\".\n",
    "Построить график скорости работы вашей программы в зависимости от N.\n",
    "Написать тесты с пояснениями.\n",
    "По первой ДЗ с БД написать аналог на Pandas. Сравнить производительность с запросами к БД (pd.read_csv, pd.read_sql и без pandas). Результаты оформить в jupyter notebook.\n",
    "\n",
    "\n"
   ]
  }
 ],
 "metadata": {
  "kernelspec": {
   "display_name": "Python 3",
   "language": "python",
   "name": "python3"
  },
  "language_info": {
   "codemirror_mode": {
    "name": "ipython",
    "version": 2
   },
   "file_extension": ".py",
   "mimetype": "text/x-python",
   "name": "python",
   "nbconvert_exporter": "python",
   "pygments_lexer": "ipython2",
   "version": "2.7.6"
  }
 },
 "nbformat": 4,
 "nbformat_minor": 0
}