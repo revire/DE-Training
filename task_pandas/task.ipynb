{
 "cells": [
  {
   "cell_type": "markdown",
   "metadata": {
    "collapsed": true,
    "pycharm": {
     "name": "#%% md\n"
    }
   },
   "source": [
    "Домашнее задание включает в себя 2 задачи:\n",
    "\n",
    "Даны 3 колонки с данными: 'Name', 'Start Date' и 'End Date'. \n",
    "- 'Name' - уникальное название заявки, пришедшей в центр технической поддержки. \n",
    "- 'Start Date' - время поступления заявки. \n",
    "- 'End Date' - время обработки заявок.\n",
    "\n",
    "\n",
    "Необходимо рассчитать еще одну колонку - 'Implementation time', показывающую количество рабочих часов (https://en.wikipedia.org/wiki/Business_hours), потраченных на обработку каждой заявки.\n",
    "Рабочие часы начинаются в 08:00 и заканчиваются в 18:00. Рабочая неделя ПН-ПТ, есть праздники (РФ).\n",
    "\n",
    "Пример (Даты в ISO):\n",
    "```\n",
    "Name\tStart Date\tEnd Date\tImplementation time\tComment\n",
    "1\t2020-11-01T08:00:00\t2020-11-01T18:00:00\t0\tВыходной\n",
    "2\t2020-11-01T08:00:00\t2020-11-02T09:30:00\t1.5\tВыходной + 1.5 часа в ПН\n",
    "3\t2020-11-01T08:00:00\t2020-11-05T19:00:00\t24\tВыходной + 8 ПН + 8 ВТ + СР - выходной + 8 ЧТ\n",
    "```\n",
    "И т.д.\n",
    "\n",
    "Для задания необходимо:\n",
    "\n",
    "- Самостоятельно сгенерировать случайные \n",
    "        'Name', 'Start Date' и 'End Date' при условии 01-01-2019 <= 'Start Date' <= 'End Date' < 01-01-2020 \n",
    "        (N датасетов, где размер датасета 10^N, N < 8 - натуральное).\n",
    "- По исходным данным построить гистограмму \"сколько поступило и обработано заявок по месяцам\".\n",
    "- Построить график скорости работы вашей программы в зависимости от N.\n",
    "- Написать тесты с пояснениями."
   ]
  },
  {
   "cell_type": "code",
   "execution_count": 17,
   "metadata": {},
   "outputs": [],
   "source": [
    "import pandas as pd\n",
    "import datetime\n",
    "import time\n",
    "import numpy as np\n",
    "import seaborn as sns\n",
    "import matplotlib.pyplot as plt"
   ]
  },
  {
   "cell_type": "code",
   "execution_count": 269,
   "metadata": {},
   "outputs": [],
   "source": []
  },
  {
   "cell_type": "code",
   "execution_count": null,
   "metadata": {},
   "outputs": [],
   "source": []
  },
  {
   "cell_type": "code",
   "execution_count": 365,
   "metadata": {},
   "outputs": [],
   "source": [
    "def generate_year(freq='30'):\n",
    "    \n",
    "    russian_holidays = [\n",
    "    '2019-01-01',\n",
    "    '2019-01-02',\n",
    "    '2019-01-03',\n",
    "    '2019-01-04',\n",
    "    '2019-01-05',\n",
    "    '2019-01-06',\n",
    "    '2019-01-07',\n",
    "    '2019-01-08',\n",
    "    '2019-02-23',\n",
    "    '2019-02-24',\n",
    "    '2019-03-08',\n",
    "    '2019-03-09',\n",
    "    '2019-03-10',\n",
    "    '2019-05-01',\n",
    "    '2019-05-02',\n",
    "    '2019-05-03',\n",
    "    '2019-05-04',\n",
    "    '2019-05-05',\n",
    "    '2019-05-09',\n",
    "    '2019-05-10',\n",
    "    '2019-05-11',\n",
    "    '2019-05-12',\n",
    "    '2019-06-12',\n",
    "    '2019-11-04',\n",
    "    ]\n",
    "\n",
    "    russian_holidays = list(map(lambda x: datetime.datetime.strptime(x, '%Y-%m-%d').date(), russian_holidays))\n",
    "    \n",
    "    the_whole_year = pd.DataFrame(pd.date_range(start='2019-01-01', end='2020-01-02', freq=f'{freq}min', name='timestamp'))\n",
    "    \n",
    "    the_whole_year['is_holiday'] = the_whole_year['timestamp'].apply(lambda x: x.date()).isin(russian_holidays)\n",
    "    the_whole_year['is_working_day'] = the_whole_year['timestamp'].apply(lambda x: x.weekday()).isin(range(5))\n",
    "    the_whole_year['to_count'] = (~the_whole_year['is_holiday'])&the_whole_year['is_working_day']\n",
    "\n",
    "    the_whole_year = the_whole_year[(the_whole_year['timestamp'].apply(lambda x: x.hour)<=18)& \\\n",
    "                                      (the_whole_year['timestamp'].apply(lambda x: x.hour)>=8)]\n",
    "    \n",
    "    return the_whole_year\n"
   ]
  },
  {
   "cell_type": "code",
   "execution_count": 119,
   "metadata": {},
   "outputs": [],
   "source": [
    "\n",
    "\n",
    "\n"
   ]
  },
  {
   "cell_type": "code",
   "execution_count": 120,
   "metadata": {},
   "outputs": [],
   "source": []
  },
  {
   "cell_type": "code",
   "execution_count": 121,
   "metadata": {},
   "outputs": [],
   "source": []
  },
  {
   "cell_type": "code",
   "execution_count": 135,
   "metadata": {},
   "outputs": [],
   "source": []
  },
  {
   "cell_type": "code",
   "execution_count": 220,
   "metadata": {},
   "outputs": [],
   "source": []
  },
  {
   "cell_type": "code",
   "execution_count": 367,
   "metadata": {},
   "outputs": [],
   "source": [
    "def generate_tickets(n, times_len, freq):\n",
    "    df = pd.DataFrame(columns=['name', 'start_time', 'end_time', 'implementation_time'])\n",
    "    tickets = []\n",
    "    for i in range(n):\n",
    "        start=np.random.randint(start_len, times_len-1)\n",
    "        end=np.random.randint(start+1, times_len)\n",
    "        start_time = the_whole_year['timestamp'].iloc[start]\n",
    "        end_time = the_whole_year['timestamp'].iloc[end]\n",
    "        impl = end_time-start_time\n",
    "\n",
    "        periods = len(the_whole_year[(the_whole_year['timestamp'].between(start_time, end_time))&\n",
    "                   (the_whole_year['to_count'])]['timestamp'])\n",
    "        \n",
    "        tickets.append([i, start_time, end_time, periods*freq/60])\n",
    "        \n",
    "        \n",
    "    df = pd.DataFrame(tickets, columns=['name', 'start_time', 'end_time', 'implementation_time'])\n",
    "        \n",
    "    return df\n",
    "        "
   ]
  },
  {
   "cell_type": "code",
   "execution_count": 263,
   "metadata": {},
   "outputs": [],
   "source": []
  },
  {
   "cell_type": "code",
   "execution_count": 368,
   "metadata": {},
   "outputs": [],
   "source": [
    "def draw_plot(tickets):\n",
    "    tickets['start_month'] = tickets['start_time'].apply(lambda x: x.month)\n",
    "    tickets['end_month'] = tickets['end_time'].apply(lambda x: x.month)\n",
    "    ends = tickets[tickets['start_month']==tickets['end_month']]['start_month']\n",
    "    starts = tickets['start_month']\n",
    "\n",
    "    sns.histplot( starts, color=\"skyblue\", bins=20)\n",
    "    sns.histplot( ends, color=\"red\", bins=20)\n",
    "    return plt\n",
    "    "
   ]
  },
  {
   "cell_type": "code",
   "execution_count": 309,
   "metadata": {},
   "outputs": [],
   "source": []
  },
  {
   "cell_type": "code",
   "execution_count": 371,
   "metadata": {},
   "outputs": [
    {
     "data": {
      "text/html": [
       "<div>\n",
       "<style scoped>\n",
       "    .dataframe tbody tr th:only-of-type {\n",
       "        vertical-align: middle;\n",
       "    }\n",
       "\n",
       "    .dataframe tbody tr th {\n",
       "        vertical-align: top;\n",
       "    }\n",
       "\n",
       "    .dataframe thead th {\n",
       "        text-align: right;\n",
       "    }\n",
       "</style>\n",
       "<table border=\"1\" class=\"dataframe\">\n",
       "  <thead>\n",
       "    <tr style=\"text-align: right;\">\n",
       "      <th></th>\n",
       "      <th>n</th>\n",
       "      <th>perfomance_time</th>\n",
       "    </tr>\n",
       "  </thead>\n",
       "  <tbody>\n",
       "    <tr>\n",
       "      <th>987</th>\n",
       "      <td>995</td>\n",
       "      <td>1.893005</td>\n",
       "    </tr>\n",
       "    <tr>\n",
       "      <th>988</th>\n",
       "      <td>996</td>\n",
       "      <td>1.886733</td>\n",
       "    </tr>\n",
       "    <tr>\n",
       "      <th>989</th>\n",
       "      <td>997</td>\n",
       "      <td>1.898387</td>\n",
       "    </tr>\n",
       "    <tr>\n",
       "      <th>990</th>\n",
       "      <td>998</td>\n",
       "      <td>2.020230</td>\n",
       "    </tr>\n",
       "    <tr>\n",
       "      <th>991</th>\n",
       "      <td>999</td>\n",
       "      <td>2.019597</td>\n",
       "    </tr>\n",
       "  </tbody>\n",
       "</table>\n",
       "</div>"
      ],
      "text/plain": [
       "       n  perfomance_time\n",
       "987  995         1.893005\n",
       "988  996         1.886733\n",
       "989  997         1.898387\n",
       "990  998         2.020230\n",
       "991  999         2.019597"
      ]
     },
     "execution_count": 371,
     "metadata": {},
     "output_type": "execute_result"
    }
   ],
   "source": [
    "perfomance.tail()"
   ]
  },
  {
   "cell_type": "code",
   "execution_count": 370,
   "metadata": {},
   "outputs": [
    {
     "name": "stderr",
     "output_type": "stream",
     "text": [
      "/home/reeve/.local/lib/python3.8/site-packages/seaborn/_decorators.py:36: FutureWarning: Pass the following variables as keyword args: x, y. From version 0.12, the only valid positional argument will be `data`, and passing other arguments without an explicit keyword will result in an error or misinterpretation.\n",
      "  warnings.warn(\n"
     ]
    },
    {
     "data": {
      "image/png": "[encoded data removed]",
      "text/plain": [
       "<Figure size 432x288 with 1 Axes>"
      ]
     },
     "metadata": {
      "needs_background": "light"
     },
     "output_type": "display_data"
    }
   ],
   "source": [
    "deltas = []\n",
    "freq = 30\n",
    "year = generate_year(freq)\n",
    "\n",
    "for n in range(8, 1000):\n",
    "    time1 = time.time()\n",
    "    tickets = generate_tickets(n, len(the_whole_year), freq)\n",
    "    plt = draw_plot(tickets)\n",
    "    time2 = time.time()\n",
    "    delta = time2-time1\n",
    "    deltas.append([n, delta])\n",
    "    \n",
    "perfomance = pd.DataFrame(deltas, columns=['n', 'perfomance_time'])\n",
    "sns.lineplot(perfomance.n, perfomance.perfomance_time)\n",
    "plt.show()"
   ]
  },
  {
   "cell_type": "code",
   "execution_count": 372,
   "metadata": {},
   "outputs": [
    {
     "name": "stderr",
     "output_type": "stream",
     "text": [
      "/home/reeve/.local/lib/python3.8/site-packages/seaborn/_decorators.py:36: FutureWarning: Pass the following variables as keyword args: x, y. From version 0.12, the only valid positional argument will be `data`, and passing other arguments without an explicit keyword will result in an error or misinterpretation.\n",
      "  warnings.warn(\n"
     ]
    },
    {
     "data": {
      "image/png": "[encoded data removed]",
      "text/plain": [
       "<Figure size 432x288 with 1 Axes>"
      ]
     },
     "metadata": {
      "needs_background": "light"
     },
     "output_type": "display_data"
    }
   ],
   "source": [
    "sns.lineplot(perfomance.n, perfomance.perfomance_time)\n",
    "plt.show()"
   ]
  },
  {
   "cell_type": "code",
   "execution_count": null,
   "metadata": {},
   "outputs": [],
   "source": []
  },
  {
   "cell_type": "code",
   "execution_count": null,
   "metadata": {},
   "outputs": [],
   "source": []
  },
  {
   "cell_type": "markdown",
   "metadata": {},
   "source": [
    "- По первой ДЗ с БД написать аналог на Pandas. \n",
    "- Сравнить производительность с запросами к БД (pd.read_csv, pd.read_sql и без pandas). \n",
    "- Результаты оформить в jupyter notebook."
   ]
  },
  {
   "cell_type": "code",
   "execution_count": 1,
   "metadata": {},
   "outputs": [],
   "source": [
    "import psycopg2\n",
    "import logging\n",
    "import requests\n",
    "import csv\n",
    "import pandas as pd\n",
    "import nltk"
   ]
  },
  {
   "cell_type": "code",
   "execution_count": null,
   "metadata": {},
   "outputs": [],
   "source": []
  },
  {
   "cell_type": "code",
   "execution_count": null,
   "metadata": {},
   "outputs": [],
   "source": []
  },
  {
   "cell_type": "markdown",
   "metadata": {},
   "source": [
    "\"\"\"Write a program which takes some string as an input\n",
    "and performs search by title over movie database.\n",
    "Search should work for partial match, be case insensitive and should\n",
    "cover different word forms, like for \"big heroes\" input, \"Big Hero 6\"\n",
    "movie should be found. For each found movie, display its title, main actor,\n",
    "genres and imdb_score. Sort results by imdb_score.\"\"\""
   ]
  },
  {
   "cell_type": "code",
   "execution_count": null,
   "metadata": {},
   "outputs": [],
   "source": []
  },
  {
   "cell_type": "code",
   "execution_count": 4,
   "metadata": {},
   "outputs": [],
   "source": [
    "link = 'https://raw.githubusercontent.com/Godoy/imdb-5000-movie-dataset/master/data/movie_metadata.csv'\n",
    "# list_of_movies = get_list_of_movies(link)"
   ]
  },
  {
   "cell_type": "code",
   "execution_count": 5,
   "metadata": {},
   "outputs": [],
   "source": [
    "df = pd.read_csv(link)"
   ]
  },
  {
   "cell_type": "code",
   "execution_count": 29,
   "metadata": {
    "collapsed": true
   },
   "outputs": [
    {
     "data": {
      "text/html": [
       "<div>\n",
       "<style scoped>\n",
       "    .dataframe tbody tr th:only-of-type {\n",
       "        vertical-align: middle;\n",
       "    }\n",
       "\n",
       "    .dataframe tbody tr th {\n",
       "        vertical-align: top;\n",
       "    }\n",
       "\n",
       "    .dataframe thead th {\n",
       "        text-align: right;\n",
       "    }\n",
       "</style>\n",
       "<table border=\"1\" class=\"dataframe\">\n",
       "  <thead>\n",
       "    <tr style=\"text-align: right;\">\n",
       "      <th></th>\n",
       "      <th>color</th>\n",
       "      <th>director_name</th>\n",
       "      <th>num_critic_for_reviews</th>\n",
       "      <th>duration</th>\n",
       "      <th>director_facebook_likes</th>\n",
       "      <th>actor_3_facebook_likes</th>\n",
       "      <th>actor_2_name</th>\n",
       "      <th>actor_1_facebook_likes</th>\n",
       "      <th>gross</th>\n",
       "      <th>genres</th>\n",
       "      <th>...</th>\n",
       "      <th>country</th>\n",
       "      <th>content_rating</th>\n",
       "      <th>budget</th>\n",
       "      <th>title_year</th>\n",
       "      <th>actor_2_facebook_likes</th>\n",
       "      <th>imdb_score</th>\n",
       "      <th>aspect_ratio</th>\n",
       "      <th>movie_facebook_likes</th>\n",
       "      <th>genres_stemmed</th>\n",
       "      <th>movie_stemmed</th>\n",
       "    </tr>\n",
       "  </thead>\n",
       "  <tbody>\n",
       "    <tr>\n",
       "      <th>0</th>\n",
       "      <td>Color</td>\n",
       "      <td>James Cameron</td>\n",
       "      <td>723.0</td>\n",
       "      <td>178.0</td>\n",
       "      <td>0.0</td>\n",
       "      <td>855.0</td>\n",
       "      <td>Joel David Moore</td>\n",
       "      <td>1000.0</td>\n",
       "      <td>760505847.0</td>\n",
       "      <td>Action|Adventure|Fantasy|Sci-Fi</td>\n",
       "      <td>...</td>\n",
       "      <td>USA</td>\n",
       "      <td>PG-13</td>\n",
       "      <td>237000000.0</td>\n",
       "      <td>2009.0</td>\n",
       "      <td>936.0</td>\n",
       "      <td>7.9</td>\n",
       "      <td>1.78</td>\n",
       "      <td>33000</td>\n",
       "      <td>[action, adventur, fantasi, sci-fi]</td>\n",
       "      <td>[avatar]</td>\n",
       "    </tr>\n",
       "    <tr>\n",
       "      <th>1</th>\n",
       "      <td>Color</td>\n",
       "      <td>Gore Verbinski</td>\n",
       "      <td>302.0</td>\n",
       "      <td>169.0</td>\n",
       "      <td>563.0</td>\n",
       "      <td>1000.0</td>\n",
       "      <td>Orlando Bloom</td>\n",
       "      <td>40000.0</td>\n",
       "      <td>309404152.0</td>\n",
       "      <td>Action|Adventure|Fantasy</td>\n",
       "      <td>...</td>\n",
       "      <td>USA</td>\n",
       "      <td>PG-13</td>\n",
       "      <td>300000000.0</td>\n",
       "      <td>2007.0</td>\n",
       "      <td>5000.0</td>\n",
       "      <td>7.1</td>\n",
       "      <td>2.35</td>\n",
       "      <td>0</td>\n",
       "      <td>[action, adventur, fantasi]</td>\n",
       "      <td>[pirat, of, the, caribbean, At, world, s, end]</td>\n",
       "    </tr>\n",
       "    <tr>\n",
       "      <th>2</th>\n",
       "      <td>Color</td>\n",
       "      <td>Sam Mendes</td>\n",
       "      <td>602.0</td>\n",
       "      <td>148.0</td>\n",
       "      <td>0.0</td>\n",
       "      <td>161.0</td>\n",
       "      <td>Rory Kinnear</td>\n",
       "      <td>11000.0</td>\n",
       "      <td>200074175.0</td>\n",
       "      <td>Action|Adventure|Thriller</td>\n",
       "      <td>...</td>\n",
       "      <td>UK</td>\n",
       "      <td>PG-13</td>\n",
       "      <td>245000000.0</td>\n",
       "      <td>2015.0</td>\n",
       "      <td>393.0</td>\n",
       "      <td>6.8</td>\n",
       "      <td>2.35</td>\n",
       "      <td>85000</td>\n",
       "      <td>[action, adventur, thriller]</td>\n",
       "      <td>[spectr]</td>\n",
       "    </tr>\n",
       "    <tr>\n",
       "      <th>3</th>\n",
       "      <td>Color</td>\n",
       "      <td>Christopher Nolan</td>\n",
       "      <td>813.0</td>\n",
       "      <td>164.0</td>\n",
       "      <td>22000.0</td>\n",
       "      <td>23000.0</td>\n",
       "      <td>Christian Bale</td>\n",
       "      <td>27000.0</td>\n",
       "      <td>448130642.0</td>\n",
       "      <td>Action|Thriller</td>\n",
       "      <td>...</td>\n",
       "      <td>USA</td>\n",
       "      <td>PG-13</td>\n",
       "      <td>250000000.0</td>\n",
       "      <td>2012.0</td>\n",
       "      <td>23000.0</td>\n",
       "      <td>8.5</td>\n",
       "      <td>2.35</td>\n",
       "      <td>164000</td>\n",
       "      <td>[action, thriller]</td>\n",
       "      <td>[the, dark, knight, rise]</td>\n",
       "    </tr>\n",
       "    <tr>\n",
       "      <th>4</th>\n",
       "      <td>NaN</td>\n",
       "      <td>Doug Walker</td>\n",
       "      <td>NaN</td>\n",
       "      <td>NaN</td>\n",
       "      <td>131.0</td>\n",
       "      <td>NaN</td>\n",
       "      <td>Rob Walker</td>\n",
       "      <td>131.0</td>\n",
       "      <td>NaN</td>\n",
       "      <td>Documentary</td>\n",
       "      <td>...</td>\n",
       "      <td>NaN</td>\n",
       "      <td>NaN</td>\n",
       "      <td>NaN</td>\n",
       "      <td>NaN</td>\n",
       "      <td>12.0</td>\n",
       "      <td>7.1</td>\n",
       "      <td>NaN</td>\n",
       "      <td>0</td>\n",
       "      <td>[documentari]</td>\n",
       "      <td>[star, war, episod, vii, the, forc, awaken]</td>\n",
       "    </tr>\n",
       "  </tbody>\n",
       "</table>\n",
       "<p>5 rows × 30 columns</p>\n",
       "</div>"
      ],
      "text/plain": [
       "   color      director_name  num_critic_for_reviews  duration  \\\n",
       "0  Color      James Cameron                   723.0     178.0   \n",
       "1  Color     Gore Verbinski                   302.0     169.0   \n",
       "2  Color         Sam Mendes                   602.0     148.0   \n",
       "3  Color  Christopher Nolan                   813.0     164.0   \n",
       "4    NaN        Doug Walker                     NaN       NaN   \n",
       "\n",
       "   director_facebook_likes  actor_3_facebook_likes      actor_2_name  \\\n",
       "0                      0.0                   855.0  Joel David Moore   \n",
       "1                    563.0                  1000.0     Orlando Bloom   \n",
       "2                      0.0                   161.0      Rory Kinnear   \n",
       "3                  22000.0                 23000.0    Christian Bale   \n",
       "4                    131.0                     NaN        Rob Walker   \n",
       "\n",
       "   actor_1_facebook_likes        gross                           genres  ...  \\\n",
       "0                  1000.0  760505847.0  Action|Adventure|Fantasy|Sci-Fi  ...   \n",
       "1                 40000.0  309404152.0         Action|Adventure|Fantasy  ...   \n",
       "2                 11000.0  200074175.0        Action|Adventure|Thriller  ...   \n",
       "3                 27000.0  448130642.0                  Action|Thriller  ...   \n",
       "4                   131.0          NaN                      Documentary  ...   \n",
       "\n",
       "  country content_rating       budget  title_year actor_2_facebook_likes  \\\n",
       "0     USA          PG-13  237000000.0      2009.0                  936.0   \n",
       "1     USA          PG-13  300000000.0      2007.0                 5000.0   \n",
       "2      UK          PG-13  245000000.0      2015.0                  393.0   \n",
       "3     USA          PG-13  250000000.0      2012.0                23000.0   \n",
       "4     NaN            NaN          NaN         NaN                   12.0   \n",
       "\n",
       "   imdb_score aspect_ratio movie_facebook_likes  \\\n",
       "0         7.9         1.78                33000   \n",
       "1         7.1         2.35                    0   \n",
       "2         6.8         2.35                85000   \n",
       "3         8.5         2.35               164000   \n",
       "4         7.1          NaN                    0   \n",
       "\n",
       "                        genres_stemmed  \\\n",
       "0  [action, adventur, fantasi, sci-fi]   \n",
       "1          [action, adventur, fantasi]   \n",
       "2         [action, adventur, thriller]   \n",
       "3                   [action, thriller]   \n",
       "4                        [documentari]   \n",
       "\n",
       "                                    movie_stemmed  \n",
       "0                                        [avatar]  \n",
       "1  [pirat, of, the, caribbean, At, world, s, end]  \n",
       "2                                        [spectr]  \n",
       "3                       [the, dark, knight, rise]  \n",
       "4     [star, war, episod, vii, the, forc, awaken]  \n",
       "\n",
       "[5 rows x 30 columns]"
      ]
     },
     "execution_count": 29,
     "metadata": {},
     "output_type": "execute_result"
    }
   ],
   "source": [
    "df.head()"
   ]
  },
  {
   "cell_type": "code",
   "execution_count": 21,
   "metadata": {},
   "outputs": [],
   "source": [
    "def clean_string(string):\n",
    "    return re.sub('[^a-zA-Z0-9]+', ' ', string)"
   ]
  },
  {
   "cell_type": "code",
   "execution_count": 51,
   "metadata": {},
   "outputs": [],
   "source": [
    "df['genres_stemmed'] = df['genres'].apply(lambda tokens: [stemmer.stem(token) for token in tokens.split('|')])\n",
    "df['movie_stemmed'] = df['movie_title'].apply(lambda tokens: [stemmer.stem(token) for token in clean_string(tokens).strip().split(' ')])\n"
   ]
  },
  {
   "cell_type": "code",
   "execution_count": 23,
   "metadata": {},
   "outputs": [],
   "source": [
    "import re"
   ]
  },
  {
   "cell_type": "code",
   "execution_count": 3,
   "metadata": {},
   "outputs": [],
   "source": [
    "from nltk.stem import *"
   ]
  },
  {
   "cell_type": "code",
   "execution_count": 12,
   "metadata": {},
   "outputs": [],
   "source": [
    "stemmer = PorterStemmer()"
   ]
  },
  {
   "cell_type": "code",
   "execution_count": 14,
   "metadata": {},
   "outputs": [
    {
     "data": {
      "text/plain": [
       "'care'"
      ]
     },
     "execution_count": 14,
     "metadata": {},
     "output_type": "execute_result"
    }
   ],
   "source": [
    "stemmer.stem('CARING')"
   ]
  },
  {
   "cell_type": "code",
   "execution_count": null,
   "metadata": {},
   "outputs": [],
   "source": [
    "def pandas_fts(string):\n",
    "    stemmer = = PorterStemmer()\n",
    "    tokens = string.split(' ')\n",
    "    tokens = [stemmer.stem(token) for token in tokens]\n",
    "    return tokens"
   ]
  },
  {
   "cell_type": "code",
   "execution_count": null,
   "metadata": {},
   "outputs": [],
   "source": [
    "def get_movie_by_genre():\n",
    "    pass"
   ]
  },
  {
   "cell_type": "code",
   "execution_count": 47,
   "metadata": {},
   "outputs": [],
   "source": [
    "def get_movie_by_title(string, df):\n",
    "    query = query = [stemmer.stem(token) for token in clean_string(string).strip().split(' ')]\n",
    "    res = df[df['movie_stemmed'].apply(lambda tokens: sum([token in query for token in tokens])>0)]\n",
    "    return res[['movie_title', 'actor_1_name', 'genres', 'imdb_score']]\n",
    "    "
   ]
  },
  {
   "cell_type": "code",
   "execution_count": 49,
   "metadata": {},
   "outputs": [],
   "source": [
    "def get_movie_by_genres(string, df):\n",
    "    query = [stemmer.stem(token) for token in clean_string(string).strip().split(' ')]\n",
    "    res = df[df['genres_stemmed'].apply(lambda tokens: sum([token in query for token in tokens])>0)]\n",
    "    return res[['movie_title', 'actor_1_name', 'genres', 'imdb_score']]\n",
    "    "
   ]
  },
  {
   "cell_type": "code",
   "execution_count": 50,
   "metadata": {},
   "outputs": [
    {
     "data": {
      "text/html": [
       "<div>\n",
       "<style scoped>\n",
       "    .dataframe tbody tr th:only-of-type {\n",
       "        vertical-align: middle;\n",
       "    }\n",
       "\n",
       "    .dataframe tbody tr th {\n",
       "        vertical-align: top;\n",
       "    }\n",
       "\n",
       "    .dataframe thead th {\n",
       "        text-align: right;\n",
       "    }\n",
       "</style>\n",
       "<table border=\"1\" class=\"dataframe\">\n",
       "  <thead>\n",
       "    <tr style=\"text-align: right;\">\n",
       "      <th></th>\n",
       "      <th>movie_title</th>\n",
       "      <th>actor_1_name</th>\n",
       "      <th>genres</th>\n",
       "      <th>imdb_score</th>\n",
       "    </tr>\n",
       "  </thead>\n",
       "  <tbody>\n",
       "    <tr>\n",
       "      <th>0</th>\n",
       "      <td>Avatar</td>\n",
       "      <td>CCH Pounder</td>\n",
       "      <td>Action|Adventure|Fantasy|Sci-Fi</td>\n",
       "      <td>7.9</td>\n",
       "    </tr>\n",
       "    <tr>\n",
       "      <th>1</th>\n",
       "      <td>Pirates of the Caribbean: At World's End</td>\n",
       "      <td>Johnny Depp</td>\n",
       "      <td>Action|Adventure|Fantasy</td>\n",
       "      <td>7.1</td>\n",
       "    </tr>\n",
       "    <tr>\n",
       "      <th>2</th>\n",
       "      <td>Spectre</td>\n",
       "      <td>Christoph Waltz</td>\n",
       "      <td>Action|Adventure|Thriller</td>\n",
       "      <td>6.8</td>\n",
       "    </tr>\n",
       "    <tr>\n",
       "      <th>5</th>\n",
       "      <td>John Carter</td>\n",
       "      <td>Daryl Sabara</td>\n",
       "      <td>Action|Adventure|Sci-Fi</td>\n",
       "      <td>6.6</td>\n",
       "    </tr>\n",
       "    <tr>\n",
       "      <th>6</th>\n",
       "      <td>Spider-Man 3</td>\n",
       "      <td>J.K. Simmons</td>\n",
       "      <td>Action|Adventure|Romance</td>\n",
       "      <td>6.2</td>\n",
       "    </tr>\n",
       "    <tr>\n",
       "      <th>...</th>\n",
       "      <td>...</td>\n",
       "      <td>...</td>\n",
       "      <td>...</td>\n",
       "      <td>...</td>\n",
       "    </tr>\n",
       "    <tr>\n",
       "      <th>5025</th>\n",
       "      <td>Pink Flamingos</td>\n",
       "      <td>Divine</td>\n",
       "      <td>Comedy|Crime|Horror</td>\n",
       "      <td>6.1</td>\n",
       "    </tr>\n",
       "    <tr>\n",
       "      <th>5031</th>\n",
       "      <td>Sanctuary; Quite a Conundrum</td>\n",
       "      <td>Julianna Pitt</td>\n",
       "      <td>Comedy|Horror|Thriller</td>\n",
       "      <td>5.4</td>\n",
       "    </tr>\n",
       "    <tr>\n",
       "      <th>5037</th>\n",
       "      <td>Newlyweds</td>\n",
       "      <td>Kerry Bishé</td>\n",
       "      <td>Comedy|Drama</td>\n",
       "      <td>6.4</td>\n",
       "    </tr>\n",
       "    <tr>\n",
       "      <th>5038</th>\n",
       "      <td>Signed Sealed Delivered</td>\n",
       "      <td>Eric Mabius</td>\n",
       "      <td>Comedy|Drama</td>\n",
       "      <td>7.7</td>\n",
       "    </tr>\n",
       "    <tr>\n",
       "      <th>5041</th>\n",
       "      <td>Shanghai Calling</td>\n",
       "      <td>Alan Ruck</td>\n",
       "      <td>Comedy|Drama|Romance</td>\n",
       "      <td>6.3</td>\n",
       "    </tr>\n",
       "  </tbody>\n",
       "</table>\n",
       "<p>2484 rows × 4 columns</p>\n",
       "</div>"
      ],
      "text/plain": [
       "                                    movie_title     actor_1_name  \\\n",
       "0                                       Avatar       CCH Pounder   \n",
       "1     Pirates of the Caribbean: At World's End       Johnny Depp   \n",
       "2                                      Spectre   Christoph Waltz   \n",
       "5                                  John Carter      Daryl Sabara   \n",
       "6                                 Spider-Man 3      J.K. Simmons   \n",
       "...                                         ...              ...   \n",
       "5025                            Pink Flamingos            Divine   \n",
       "5031              Sanctuary; Quite a Conundrum     Julianna Pitt   \n",
       "5037                                 Newlyweds       Kerry Bishé   \n",
       "5038                   Signed Sealed Delivered       Eric Mabius   \n",
       "5041                          Shanghai Calling         Alan Ruck   \n",
       "\n",
       "                               genres  imdb_score  \n",
       "0     Action|Adventure|Fantasy|Sci-Fi         7.9  \n",
       "1            Action|Adventure|Fantasy         7.1  \n",
       "2           Action|Adventure|Thriller         6.8  \n",
       "5             Action|Adventure|Sci-Fi         6.6  \n",
       "6            Action|Adventure|Romance         6.2  \n",
       "...                               ...         ...  \n",
       "5025              Comedy|Crime|Horror         6.1  \n",
       "5031           Comedy|Horror|Thriller         5.4  \n",
       "5037                     Comedy|Drama         6.4  \n",
       "5038                     Comedy|Drama         7.7  \n",
       "5041             Comedy|Drama|Romance         6.3  \n",
       "\n",
       "[2484 rows x 4 columns]"
      ]
     },
     "execution_count": 50,
     "metadata": {},
     "output_type": "execute_result"
    }
   ],
   "source": [
    "get_movie_by_genres('comedy, adventure', df)"
   ]
  },
  {
   "cell_type": "code",
   "execution_count": 48,
   "metadata": {},
   "outputs": [
    {
     "data": {
      "text/html": [
       "<div>\n",
       "<style scoped>\n",
       "    .dataframe tbody tr th:only-of-type {\n",
       "        vertical-align: middle;\n",
       "    }\n",
       "\n",
       "    .dataframe tbody tr th {\n",
       "        vertical-align: top;\n",
       "    }\n",
       "\n",
       "    .dataframe thead th {\n",
       "        text-align: right;\n",
       "    }\n",
       "</style>\n",
       "<table border=\"1\" class=\"dataframe\">\n",
       "  <thead>\n",
       "    <tr style=\"text-align: right;\">\n",
       "      <th></th>\n",
       "      <th>movie_title</th>\n",
       "      <th>actor_1_name</th>\n",
       "      <th>genres</th>\n",
       "      <th>imdb_score</th>\n",
       "    </tr>\n",
       "  </thead>\n",
       "  <tbody>\n",
       "    <tr>\n",
       "      <th>270</th>\n",
       "      <td>The Lord of the Rings: The Fellowship of the R...</td>\n",
       "      <td>Christopher Lee</td>\n",
       "      <td>Action|Adventure|Drama|Fantasy</td>\n",
       "      <td>8.8</td>\n",
       "    </tr>\n",
       "    <tr>\n",
       "      <th>339</th>\n",
       "      <td>The Lord of the Rings: The Return of the King</td>\n",
       "      <td>Orlando Bloom</td>\n",
       "      <td>Action|Adventure|Drama|Fantasy</td>\n",
       "      <td>8.9</td>\n",
       "    </tr>\n",
       "    <tr>\n",
       "      <th>340</th>\n",
       "      <td>The Lord of the Rings: The Two Towers</td>\n",
       "      <td>Christopher Lee</td>\n",
       "      <td>Action|Adventure|Drama|Fantasy</td>\n",
       "      <td>8.7</td>\n",
       "    </tr>\n",
       "    <tr>\n",
       "      <th>952</th>\n",
       "      <td>The Ring Two</td>\n",
       "      <td>Naomi Watts</td>\n",
       "      <td>Horror|Mystery</td>\n",
       "      <td>5.4</td>\n",
       "    </tr>\n",
       "    <tr>\n",
       "      <th>1170</th>\n",
       "      <td>Lord of War</td>\n",
       "      <td>Nicolas Cage</td>\n",
       "      <td>Crime|Drama|Thriller</td>\n",
       "      <td>7.6</td>\n",
       "    </tr>\n",
       "    <tr>\n",
       "      <th>1974</th>\n",
       "      <td>Lords of Dogtown</td>\n",
       "      <td>Heath Ledger</td>\n",
       "      <td>Biography|Drama|Sport</td>\n",
       "      <td>7.1</td>\n",
       "    </tr>\n",
       "    <tr>\n",
       "      <th>2968</th>\n",
       "      <td>The Postman Always Rings Twice</td>\n",
       "      <td>Anjelica Huston</td>\n",
       "      <td>Crime|Drama|Romance|Thriller</td>\n",
       "      <td>6.6</td>\n",
       "    </tr>\n",
       "    <tr>\n",
       "      <th>3320</th>\n",
       "      <td>Red Riding: In the Year of Our Lord 1974</td>\n",
       "      <td>Andrew Garfield</td>\n",
       "      <td>Crime|Drama|Mystery|Thriller</td>\n",
       "      <td>7.1</td>\n",
       "    </tr>\n",
       "    <tr>\n",
       "      <th>4022</th>\n",
       "      <td>Lords of London</td>\n",
       "      <td>Ray Winstone</td>\n",
       "      <td>Crime|Mystery|Thriller</td>\n",
       "      <td>3.1</td>\n",
       "    </tr>\n",
       "    <tr>\n",
       "      <th>4437</th>\n",
       "      <td>The Lords of Salem</td>\n",
       "      <td>Sid Haig</td>\n",
       "      <td>Drama|Fantasy|Horror|Thriller</td>\n",
       "      <td>5.1</td>\n",
       "    </tr>\n",
       "  </tbody>\n",
       "</table>\n",
       "</div>"
      ],
      "text/plain": [
       "                                            movie_title     actor_1_name  \\\n",
       "270   The Lord of the Rings: The Fellowship of the R...  Christopher Lee   \n",
       "339      The Lord of the Rings: The Return of the King     Orlando Bloom   \n",
       "340              The Lord of the Rings: The Two Towers   Christopher Lee   \n",
       "952                                       The Ring Two       Naomi Watts   \n",
       "1170                                       Lord of War      Nicolas Cage   \n",
       "1974                                  Lords of Dogtown      Heath Ledger   \n",
       "2968                    The Postman Always Rings Twice   Anjelica Huston   \n",
       "3320          Red Riding: In the Year of Our Lord 1974   Andrew Garfield   \n",
       "4022                                   Lords of London      Ray Winstone   \n",
       "4437                                The Lords of Salem          Sid Haig   \n",
       "\n",
       "                              genres  imdb_score  \n",
       "270   Action|Adventure|Drama|Fantasy         8.8  \n",
       "339   Action|Adventure|Drama|Fantasy         8.9  \n",
       "340   Action|Adventure|Drama|Fantasy         8.7  \n",
       "952                   Horror|Mystery         5.4  \n",
       "1170            Crime|Drama|Thriller         7.6  \n",
       "1974           Biography|Drama|Sport         7.1  \n",
       "2968    Crime|Drama|Romance|Thriller         6.6  \n",
       "3320    Crime|Drama|Mystery|Thriller         7.1  \n",
       "4022          Crime|Mystery|Thriller         3.1  \n",
       "4437   Drama|Fantasy|Horror|Thriller         5.1  "
      ]
     },
     "execution_count": 48,
     "metadata": {},
     "output_type": "execute_result"
    }
   ],
   "source": [
    "get_movie_by_title('lord rings', df)"
   ]
  },
  {
   "cell_type": "code",
   "execution_count": 15,
   "metadata": {},
   "outputs": [],
   "source": []
  },
  {
   "cell_type": "code",
   "execution_count": 28,
   "metadata": {},
   "outputs": [],
   "source": []
  }
 ],
 "metadata": {
  "kernelspec": {
   "display_name": "Python 3",
   "language": "python",
   "name": "python3"
  },
  "language_info": {
   "codemirror_mode": {
    "name": "ipython",
    "version": 3
   },
   "file_extension": ".py",
   "mimetype": "text/x-python",
   "name": "python",
   "nbconvert_exporter": "python",
   "pygments_lexer": "ipython3",
   "version": "3.8.5"
  }
 },
 "nbformat": 4,
 "nbformat_minor": 1
}
