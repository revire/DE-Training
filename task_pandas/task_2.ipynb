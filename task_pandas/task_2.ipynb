{
 "cells": [
  {
   "cell_type": "code",
   "execution_count": null,
   "metadata": {
    "collapsed": true
   },
   "outputs": [],
   "source": []
  },
  {
   "cell_type": "markdown",
   "source": [
    "- По первой ДЗ с БД написать аналог на Pandas.\n",
    "- Сравнить производительность с запросами к БД (pd.read_csv, pd.read_sql и без pandas).\n",
    "- Результаты оформить в jupyter notebook."
   ],
   "metadata": {
    "collapsed": false
   }
  },
  {
   "cell_type": "code",
   "execution_count": null,
   "outputs": [],
   "source": [
    "import logging\n",
    "import pandas as pd\n",
    "import seaborn as sns\n",
    "import sys\n",
    "import time\n",
    "\n",
    "from panfun import get_movie_by_genres, create_movie_df, get_movie_by_title\n",
    "\n",
    "sys.path.append('../task_postgres')\n",
    "from de_training_database import create_base\n",
    "from get_movie_by_title import get_film\n",
    "from get_movie_by_genre import get_by_genre\n",
    "\n",
    "logger = logging.getLogger()\n",
    "logger.disabled = True"
   ],
   "metadata": {
    "collapsed": false,
    "pycharm": {
     "name": "#%%\n"
    }
   }
  },
  {
   "cell_type": "code",
   "execution_count": null,
   "outputs": [],
   "source": [
    "title_query = 'lord rings'\n",
    "genre_query = 'comedy, adventure'\n",
    "\n",
    "pandas_deltas = []\n",
    "postgres_deltas = []"
   ],
   "metadata": {
    "collapsed": false,
    "pycharm": {
     "name": "#%%\n"
    }
   }
  },
  {
   "cell_type": "code",
   "execution_count": null,
   "outputs": [],
   "source": [
    "%%timeit\n",
    "\n",
    "pandas_start = time.time()\n",
    "link = 'https://raw.githubusercontent.com/Godoy/imdb-5000-movie-dataset/master/data/movie_metadata.csv'\n",
    "df = create_movie_df(link)\n",
    "titles_found = get_movie_by_title(title_query, df)\n",
    "genres_found = get_movie_by_genres(genre_query, df)\n",
    "pandas_end = time.time()\n",
    "pandas_delta = pandas_end - pandas_start\n",
    "pandas_deltas.append(pandas_delta)\n"
   ],
   "metadata": {
    "collapsed": false,
    "pycharm": {
     "name": "#%%\n"
    }
   }
  },
  {
   "cell_type": "code",
   "execution_count": null,
   "outputs": [],
   "source": [
    "%%timeit\n",
    "\n",
    "postgres_start = time.time()\n",
    "create_base()\n",
    "titles_found = get_film(title_query)\n",
    "genres_found = get_by_genre(genre_query)\n",
    "postgres_end = time.time()\n",
    "postgres_delta = postgres_end - postgres_start\n",
    "postgres_deltas.append(postgres_delta)"
   ],
   "metadata": {
    "collapsed": false,
    "pycharm": {
     "name": "#%%\n"
    }
   }
  },
  {
   "cell_type": "code",
   "execution_count": null,
   "outputs": [],
   "source": [
    "labels = ['pandas' for i in range(8)]\n",
    "labels.extend(['postgres' for i in range(8)])\n",
    "deltas = []\n",
    "deltas.extend(postgres_deltas, pandas_deltas)\n",
    "\n",
    "compare_deltas = pd.DataFrame(list(zip(deltas, labels)), columns=['time', 'method'])"
   ],
   "metadata": {
    "collapsed": false,
    "pycharm": {
     "name": "#%%\n"
    }
   }
  },
  {
   "cell_type": "code",
   "execution_count": null,
   "outputs": [],
   "source": [
    "sns.set_theme(style=\"whitegrid\")\n",
    "sns.violinplot(data=compare_deltas, x='method', y='time', split=True)\n",
    "sns.despine(left=True)"
   ],
   "metadata": {
    "collapsed": false,
    "pycharm": {
     "name": "#%%\n"
    }
   }
  }
 ],
 "metadata": {
  "kernelspec": {
   "display_name": "Python 3",
   "language": "python",
   "name": "python3"
  },
  "language_info": {
   "codemirror_mode": {
    "name": "ipython",
    "version": 2
   },
   "file_extension": ".py",
   "mimetype": "text/x-python",
   "name": "python",
   "nbconvert_exporter": "python",
   "pygments_lexer": "ipython2",
   "version": "2.7.6"
  }
 },
 "nbformat": 4,
 "nbformat_minor": 0
}