{
 "cells": [
  {
   "cell_type": "markdown",
   "metadata": {
    "collapsed": true,
    "pycharm": {
     "name": "#%% md\n"
    }
   },
   "source": [
    "Даны 3 колонки с данными:\n",
    "    - 'Name' - уникальное название заявки, пришедшей в центр технической поддержки.\n",
    "    - 'Start Date' - время поступления заявки.\n",
    "    - 'End Date' - время обработки заявок.\n",
    "Необходимо рассчитать еще одну колонку - 'Implementation time', показывающую количество рабочих часов (https://en.wikipedia.org/wiki/Business_hours), потраченных на обработку каждой заявки.\n",
    "Рабочие часы начинаются в 08:00 и заканчиваются в 18:00. Рабочая неделя ПН-ПТ, есть праздники (РФ).\n",
    "\n",
    "- Самостоятельно сгенерировать случайные \n",
    "        'Name', 'Start Date' и 'End Date' при условии 01-01-2019 <= 'Start Date' <= 'End Date' < 01-01-2020 \n",
    "        (N датасетов, где размер датасета 10^N, N < 8 - натуральное).\n",
    "- По исходным данным построить гистограмму \"сколько поступило и обработано заявок по месяцам\".\n",
    "- Построить график скорости работы вашей программы в зависимости от N.\n",
    "- Написать тесты с пояснениями."
   ]
  },
  {
   "cell_type": "code",
   "execution_count": 2,
   "metadata": {},
   "outputs": [],
   "source": [
    "import pandas as pd\n",
    "import datetime\n",
    "import time\n",
    "import numpy as np\n",
    "import seaborn as sns\n",
    "import matplotlib.pyplot as plt\n"
   ]
  },
  {
   "cell_type": "code",
   "execution_count": 17,
   "metadata": {},
   "outputs": [],
   "source": [
    "def generate_year(freq='30'):\n",
    "    \n",
    "    russian_holidays = [\n",
    "        '2019-01-01','2019-01-02','2019-01-03','2019-01-04','2019-01-05','2019-01-06','2019-01-07',\n",
    "        '2019-01-08','2019-02-23','2019-02-24','2019-03-08','2019-03-09','2019-03-10','2019-05-01',\n",
    "        '2019-05-02','2019-05-03','2019-05-04','2019-05-05','2019-05-09','2019-05-10','2019-05-11',\n",
    "        '2019-05-12','2019-06-12','2019-11-04', '2020-01-01'\n",
    "    ]\n",
    "\n",
    "    russian_holidays = list(map(lambda x: datetime.datetime.strptime(x, '%Y-%m-%d').date(), russian_holidays))\n",
    "    \n",
    "    the_whole_year = pd.DataFrame(pd.date_range(start='2019-01-01', end='2020-01-01', freq=f'{freq}min', name='timestamp'))\n",
    "    \n",
    "    the_whole_year['is_holiday'] = the_whole_year['timestamp'].dt.date.isin(russian_holidays)\n",
    "    the_whole_year['is_working_day'] = the_whole_year['timestamp'].dt.weekday.isin(range(5))\n",
    "    the_whole_year['is_working_hour'] = (the_whole_year['timestamp'].dt.hour<=18)&\\\n",
    "                                        (the_whole_year['timestamp'].dt.hour>=8)\n",
    "    the_whole_year['to_count'] = (~the_whole_year['is_holiday'])&\\\n",
    "                                 the_whole_year['is_working_day']&\\\n",
    "                                 the_whole_year['is_working_hour']\n",
    "    return the_whole_year\n"
   ]
  },
  {
   "cell_type": "code",
   "execution_count": 18,
   "metadata": {},
   "outputs": [],
   "source": [
    "def generate_tickets(N, year, freq):\n",
    "    year_len = len(year)\n",
    "    tickets = []\n",
    "    for i in range(10**N):\n",
    "        start=np.random.randint(year_len-1)\n",
    "        end=np.random.randint(start+1, year_len)\n",
    "        start_time = year['timestamp'].iloc[start]\n",
    "        end_time = year['timestamp'].iloc[end]\n",
    "        periods = len(year[(year['timestamp'].between(start_time, end_time))&\n",
    "                   (year['to_count'])]['timestamp'])\n",
    "        tickets.append([i, start_time, end_time, periods*freq/60])\n",
    "\n",
    "    df = pd.DataFrame(tickets, columns=['name', 'start_time', 'end_time', 'implementation_time'])\n",
    "    return df"
   ]
  },
  {
   "cell_type": "code",
   "execution_count": 19,
   "metadata": {},
   "outputs": [],
   "source": [
    "def draw_plot(tickets):\n",
    "    tickets['start_month'] = tickets['start_time'].dt.month\n",
    "    tickets['end_month'] = tickets['end_time'].dt.month\n",
    "    ends = tickets[tickets['start_month']==tickets['end_month']]['start_month']\n",
    "    starts = tickets['start_month']\n",
    "\n",
    "    sns.histplot(starts, color=\"skyblue\", bins=20)\n",
    "    sns.histplot(ends, color=\"red\", bins=20)\n",
    "    return plt"
   ]
  },
  {
   "cell_type": "code",
   "execution_count": 20,
   "metadata": {},
   "outputs": [
    {
     "name": "stdout",
     "output_type": "stream",
     "text": [
      "Checking 0\n",
      "Checking 1\n",
      "Checking 2\n",
      "Checking 3\n",
      "Checking 4\n",
      "Checking 5\n"
     ]
    },
    {
     "data": {
      "text/plain": "<Figure size 432x288 with 1 Axes>",
      "image/png": "[encoded data removed]"
     },
     "metadata": {
      "needs_background": "light"
     },
     "output_type": "display_data"
    }
   ],
   "source": [
    "deltas = []\n",
    "freq = 30\n",
    "year = generate_year(freq)\n",
    "N = 6\n",
    "\n",
    "for i in range(N):\n",
    "    print(f'Checking {i}')\n",
    "    time1 = time.time()\n",
    "    tickets = generate_tickets(i, year, freq)\n",
    "    plt = draw_plot(tickets)\n",
    "    time2 = time.time()\n",
    "    deltas.append([i, time2-time1])\n",
    "    \n",
    "perfomance = pd.DataFrame(deltas, columns=['N', 'perfomance_time'])\n"
   ]
  },
  {
   "cell_type": "code",
   "execution_count": 6,
   "metadata": {
    "pycharm": {
     "name": "#%%\n"
    }
   },
   "outputs": [
    {
     "name": "stderr",
     "output_type": "stream",
     "text": [
      "/home/reeve/Code/PycharmProjects/lib/python3.8/site-packages/seaborn/_decorators.py:36: FutureWarning: Pass the following variables as keyword args: x, y. From version 0.12, the only valid positional argument will be `data`, and passing other arguments without an explicit keyword will result in an error or misinterpretation.\n",
      "  warnings.warn(\n"
     ]
    },
    {
     "data": {
      "text/plain": "<Figure size 432x288 with 1 Axes>",
      "image/png": "[encoded data removed]"
     },
     "metadata": {
      "needs_background": "light"
     },
     "output_type": "display_data"
    }
   ],
   "source": [
    "sns.lineplot(perfomance.N, perfomance.perfomance_time)\n",
    "plt.show()"
   ]
  },
  {
   "cell_type": "code",
   "execution_count": 2,
   "outputs": [],
   "source": [],
   "metadata": {
    "collapsed": false,
    "pycharm": {
     "name": "#%%\n"
    }
   }
  },
  {
   "cell_type": "markdown",
   "source": [
    "Test of the dataset generation\n",
    "\n",
    "The test checks if in the geberated dataset were the same implementation\n",
    "times with different closing time"
   ],
   "metadata": {
    "collapsed": false,
    "pycharm": {
     "name": "#%% md\n"
    }
   }
  },
  {
   "cell_type": "code",
   "execution_count": 21,
   "outputs": [],
   "source": [
    "year = generate_year()\n",
    "\n",
    "#uncomment if you want to check only working hours\n",
    "#otherwise it will show all simil\n",
    "year = year[year['to_count']]\n",
    "\n",
    "df = generate_tickets(2, year, 30)\n",
    "df_len = len(df)"
   ],
   "metadata": {
    "collapsed": false,
    "pycharm": {
     "name": "#%%\n"
    }
   }
  },
  {
   "cell_type": "code",
   "execution_count": 22,
   "outputs": [
    {
     "name": "stdout",
     "output_type": "stream",
     "text": [
      "Generating dataset from 2019-01-29 14:30:00\n",
      "No bugs in lines generations\n"
     ]
    }
   ],
   "source": [
    "lines = []\n",
    "freq = 30\n",
    "n = 1000\n",
    "year_len = len(year)\n",
    "start=np.random.randint(year_len-1)\n",
    "start_time = year['timestamp'].iloc[start]\n",
    "print(f'Generating dataset from {start_time}')\n",
    "for i in range(n):\n",
    "    end=np.random.randint(start+1, year_len)\n",
    "    end_time = year['timestamp'].iloc[end]\n",
    "    to_count = year['to_count'].iloc[end]\n",
    "    periods = len(year[(year['timestamp'].between(start_time, end_time))&\n",
    "               (year['to_count'])]['timestamp'])\n",
    "    lines.append([start_time, end_time, periods*freq/60, to_count])\n",
    "test_df = pd.DataFrame(lines, columns=['start_time', 'end_time', 'implementation_time', 'to_count'])\n",
    "test_df_len = len(test_df)\n",
    "\n",
    "tests = []\n",
    "for t in range(n*10):\n",
    "    randoms = np.random.randint(test_df_len, size=2)\n",
    "    line1=test_df.iloc[randoms[0]]\n",
    "    line2=test_df.iloc[randoms[1]]\n",
    "    test = ~(line1['end_time'] > line2['end_time']) ^ (line1['implementation_time'] > line2['implementation_time'])\n",
    "    if test!=-1:\n",
    "        print('Equal impl time: ', line1['end_time'], line2['end_time'], line1['implementation_time'], [line1['to_count'], line2['to_count']])\n",
    "        tests.append(test)\n",
    "\n",
    "if len(tests)==0:\n",
    "    print('No bugs in lines generations')\n",
    "else:\n",
    "    print('Equal impl time detected')"
   ],
   "metadata": {
    "collapsed": false,
    "pycharm": {
     "name": "#%%\n"
    }
   }
  }
 ],
 "metadata": {
  "kernelspec": {
   "display_name": "Python 3",
   "language": "python",
   "name": "python3"
  },
  "language_info": {
   "codemirror_mode": {
    "name": "ipython",
    "version": 3
   },
   "file_extension": ".py",
   "mimetype": "text/x-python",
   "name": "python",
   "nbconvert_exporter": "python",
   "pygments_lexer": "ipython3",
   "version": "3.8.5"
  }
 },
 "nbformat": 4,
 "nbformat_minor": 1
}