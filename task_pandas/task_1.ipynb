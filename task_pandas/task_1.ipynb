{
 "cells": [
  {
   "cell_type": "markdown",
   "metadata": {
    "collapsed": true,
    "pycharm": {
     "name": "#%% md\n"
    }
   },
   "source": [
    "Домашнее задание включает в себя 2 задачи:\n",
    "\n",
    "Даны 3 колонки с данными: 'Name', 'Start Date' и 'End Date'. \n",
    "- 'Name' - уникальное название заявки, пришедшей в центр технической поддержки. \n",
    "- 'Start Date' - время поступления заявки. \n",
    "- 'End Date' - время обработки заявок.\n",
    "\n",
    "\n",
    "Необходимо рассчитать еще одну колонку - 'Implementation time', показывающую количество рабочих часов (https://en.wikipedia.org/wiki/Business_hours), потраченных на обработку каждой заявки.\n",
    "Рабочие часы начинаются в 08:00 и заканчиваются в 18:00. Рабочая неделя ПН-ПТ, есть праздники (РФ).\n",
    "\n",
    "Пример (Даты в ISO):\n",
    "```\n",
    "Name\tStart Date\tEnd Date\tImplementation time\tComment\n",
    "1\t2020-11-01T08:00:00\t2020-11-01T18:00:00\t0\tВыходной\n",
    "2\t2020-11-01T08:00:00\t2020-11-02T09:30:00\t1.5\tВыходной + 1.5 часа в ПН\n",
    "3\t2020-11-01T08:00:00\t2020-11-05T19:00:00\t24\tВыходной + 8 ПН + 8 ВТ + СР - выходной + 8 ЧТ\n",
    "```\n",
    "И т.д.\n",
    "\n",
    "Для задания необходимо:\n",
    "\n",
    "- Самостоятельно сгенерировать случайные \n",
    "        'Name', 'Start Date' и 'End Date' при условии 01-01-2019 <= 'Start Date' <= 'End Date' < 01-01-2020 \n",
    "        (N датасетов, где размер датасета 10^N, N < 8 - натуральное).\n",
    "- По исходным данным построить гистограмму \"сколько поступило и обработано заявок по месяцам\".\n",
    "- Построить график скорости работы вашей программы в зависимости от N.\n",
    "- Написать тесты с пояснениями."
   ]
  },
  {
   "cell_type": "code",
   "execution_count": 57,
   "metadata": {},
   "outputs": [],
   "source": [
    "import pandas as pd\n",
    "import datetime\n",
    "import time\n",
    "import numpy as np\n",
    "import seaborn as sns\n",
    "import matplotlib.pyplot as plt"
   ]
  },
  {
   "cell_type": "code",
   "execution_count": 269,
   "metadata": {},
   "outputs": [],
   "source": [
    "\n",
    "def generate_year(freq='30'):\n",
    "    \n",
    "    russian_holidays = [\n",
    "        '2019-01-01','2019-01-02','2019-01-03','2019-01-04','2019-01-05','2019-01-06','2019-01-07',\n",
    "        '2019-01-08','2019-02-23','2019-02-24','2019-03-08','2019-03-09','2019-03-10','2019-05-01',\n",
    "        '2019-05-02','2019-05-03','2019-05-04','2019-05-05','2019-05-09','2019-05-10','2019-05-11',\n",
    "        '2019-05-12','2019-06-12','2019-11-04'\n",
    "    ]\n",
    "\n",
    "    russian_holidays = list(map(lambda x: datetime.datetime.strptime(x, '%Y-%m-%d').date(), russian_holidays))\n",
    "    \n",
    "    the_whole_year = pd.DataFrame(pd.date_range(start='2019-01-01', end='2020-01-02', freq=f'{freq}min', name='timestamp'))\n",
    "    \n",
    "    the_whole_year['is_holiday'] = the_whole_year['timestamp'].apply(lambda x: x.date()).isin(russian_holidays)\n",
    "    the_whole_year['is_working_day'] = the_whole_year['timestamp'].apply(lambda x: x.weekday()).isin(range(5))\n",
    "    the_whole_year['to_count'] = (~the_whole_year['is_holiday'])&the_whole_year['is_working_day']\n",
    "\n",
    "    the_whole_year = the_whole_year[(the_whole_year['timestamp'].apply(lambda x: x.hour)<=18)& \\\n",
    "                                      (the_whole_year['timestamp'].apply(lambda x: x.hour)>=8)]\n",
    "    \n",
    "    return the_whole_year\n"
   ]
  },
  {
   "cell_type": "code",
   "execution_count": 82,
   "metadata": {},
   "outputs": [],
   "source": []
  },
  {
   "cell_type": "code",
   "execution_count": 83,
   "metadata": {},
   "outputs": [],
   "source": [
    "def generate_tickets(N, times_len, freq, year):\n",
    "    tickets = []\n",
    "    for i in range(10**N):\n",
    "        start=np.random.randint(times_len-1)\n",
    "        end=np.random.randint(start+1, times_len)\n",
    "        start_time = year['timestamp'].iloc[start]\n",
    "        end_time = year['timestamp'].iloc[end]\n",
    "        periods = len(year[(year['timestamp'].between(start_time, end_time))&\n",
    "                   (year['to_count'])]['timestamp'])\n",
    "\n",
    "        tickets.append([i, start_time, end_time, periods*freq/60])\n",
    "    df = pd.DataFrame(tickets, columns=['name', 'start_time', 'end_time', 'implementation_time'])\n",
    "        \n",
    "    return df"
   ]
  },
  {
   "cell_type": "code",
   "execution_count": 84,
   "metadata": {},
   "outputs": [],
   "source": [
    "def draw_plot(tickets):\n",
    "    tickets['start_month'] = tickets['start_time'].apply(lambda x: x.month)\n",
    "    tickets['end_month'] = tickets['end_time'].apply(lambda x: x.month)\n",
    "    ends = tickets[tickets['start_month']==tickets['end_month']]['start_month']\n",
    "    starts = tickets['start_month']\n",
    "\n",
    "    sns.histplot(starts, color=\"skyblue\", bins=20)\n",
    "    sns.histplot(ends, color=\"red\", bins=20)\n",
    "    return plt\n",
    "    "
   ]
  },
  {
   "cell_type": "code",
   "execution_count": 92,
   "metadata": {},
   "outputs": [
    {
     "data": {
      "text/plain": "<Figure size 432x288 with 1 Axes>",
      "image/png": "[encoded data removed]"
     },
     "metadata": {},
     "output_type": "display_data"
    }
   ],
   "source": [
    "deltas = []\n",
    "freq = 30\n",
    "year = generate_year(freq)\n",
    "N = 3\n",
    "\n",
    "for i in range(N):\n",
    "    time1 = time.time()\n",
    "    tickets = generate_tickets(N, len(year), freq, year)\n",
    "    plt = draw_plot(tickets)\n",
    "    time2 = time.time()\n",
    "    deltas.append([i, time2-time1])\n",
    "    \n",
    "perfomance = pd.DataFrame(deltas, columns=['N', 'perfomance_time'])\n",
    "perfomance.to_csv('perfomance.csv')"
   ]
  },
  {
   "cell_type": "code",
   "execution_count": 94,
   "metadata": {
    "pycharm": {
     "name": "#%%\n"
    }
   },
   "outputs": [
    {
     "name": "stderr",
     "output_type": "stream",
     "text": [
      "/home/reeve/Code/PycharmProjects/lib/python3.8/site-packages/seaborn/_decorators.py:36: FutureWarning: Pass the following variables as keyword args: x, y. From version 0.12, the only valid positional argument will be `data`, and passing other arguments without an explicit keyword will result in an error or misinterpretation.\n",
      "  warnings.warn(\n"
     ]
    },
    {
     "data": {
      "text/plain": "<Figure size 432x288 with 1 Axes>",
      "image/png": "[encoded data removed]"
     },
     "metadata": {},
     "output_type": "display_data"
    }
   ],
   "source": [
    "sns.lineplot(perfomance.N, perfomance.perfomance_time)\n",
    "plt.show()\n"
   ]
  },
  {
   "cell_type": "code",
   "execution_count": 93,
   "outputs": [
    {
     "data": {
      "text/plain": "   N  perfomance_time\n0  0         1.243190\n1  1         1.148037\n2  2         1.133532",
      "text/html": "<div>\n<style scoped>\n    .dataframe tbody tr th:only-of-type {\n        vertical-align: middle;\n    }\n\n    .dataframe tbody tr th {\n        vertical-align: top;\n    }\n\n    .dataframe thead th {\n        text-align: right;\n    }\n</style>\n<table border=\"1\" class=\"dataframe\">\n  <thead>\n    <tr style=\"text-align: right;\">\n      <th></th>\n      <th>N</th>\n      <th>perfomance_time</th>\n    </tr>\n  </thead>\n  <tbody>\n    <tr>\n      <th>0</th>\n      <td>0</td>\n      <td>1.243190</td>\n    </tr>\n    <tr>\n      <th>1</th>\n      <td>1</td>\n      <td>1.148037</td>\n    </tr>\n    <tr>\n      <th>2</th>\n      <td>2</td>\n      <td>1.133532</td>\n    </tr>\n  </tbody>\n</table>\n</div>"
     },
     "execution_count": 93,
     "metadata": {},
     "output_type": "execute_result"
    }
   ],
   "source": [
    "perfomance.head()"
   ],
   "metadata": {
    "collapsed": false,
    "pycharm": {
     "name": "#%%\n"
    }
   }
  }
 ],
 "metadata": {
  "kernelspec": {
   "display_name": "Python 3",
   "language": "python",
   "name": "python3"
  },
  "language_info": {
   "codemirror_mode": {
    "name": "ipython",
    "version": 3
   },
   "file_extension": ".py",
   "mimetype": "text/x-python",
   "name": "python",
   "nbconvert_exporter": "python",
   "pygments_lexer": "ipython3",
   "version": "3.8.5"
  }
 },
 "nbformat": 4,
 "nbformat_minor": 1
}