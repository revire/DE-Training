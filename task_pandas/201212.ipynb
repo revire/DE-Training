{
 "cells": [
  {
   "cell_type": "markdown",
   "metadata": {},
   "source": [
    "# Calculation of the task"
   ]
  },
  {
   "cell_type": "code",
   "execution_count": 1,
   "metadata": {},
   "outputs": [],
   "source": [
    "import matplotlib.pyplot as plt\n",
    "import matplotlib.patches as patches\n",
    "import numpy as np\n",
    "import datetime"
   ]
  },
  {
   "cell_type": "code",
   "execution_count": 2,
   "metadata": {},
   "outputs": [],
   "source": [
    "def moving_of_shutter(position, time_delta):\n",
    "    # used during evaporation\n",
    "    # this function takes array of positions and array of times on each position\n",
    "    # moves to position, than waits for the time on this position\n",
    "    # shows progress\n",
    "  \n",
    "    for i, pos in enumerate(position):\n",
    "\n",
    "        device.set_position(pos) \n",
    "        \n",
    "        print('step ', i,'/', len(position),'   position', pos, ',um ', 'time delay', round(time_delta[i],2), ',s')\n",
    "        time_left = sum(time_delta) - sum(time_delta[:i+1])\n",
    "        print('    left min', time_left//60, '    left sec',round(time_left - (time_left//60) * 60, 1) )\n",
    "            \n",
    "        time.sleep(time_delta[i])\n",
    "    \n",
    "\n",
    "\n",
    "def not_evaporator_shutter_movement(to_position, dt = 1, step = 2, progress = True):\n",
    "    # funktion used for not evaporation movement of the shutter\n",
    "    # takes neaded end position of the shutter, \n",
    "    # time delta - how long to stay on etch transitional position, \n",
    "    # step - step between transitional positions\n",
    "    # progress - can show progress, if nessesary\n",
    "    #\n",
    "    # during movement calculates how much time it takes to make movement (time of the loop)\n",
    "    \n",
    "    \n",
    "    to_position = int(to_position)\n",
    "    current_pos = round(device.get_position())\n",
    "    \n",
    "    if current_pos > to_position:\n",
    "        position = range(current_pos,to_position, -step)\n",
    "    elif current_pos < to_position:\n",
    "        position = range(current_pos,to_position, step)\n",
    "    else:\n",
    "        position = [current_pos, to_position]\n",
    "    \n",
    "    time_delta = np.ones(len(position))*dt\n",
    "    times = [] \n",
    "\n",
    "  \n",
    "    for i, pos in enumerate(position):\n",
    "        #print(pos)\n",
    "        a = time.monotonic() \n",
    "        device.set_position(pos)\n",
    "        \n",
    "        if progress == True:\n",
    "            print('step ', i, '   position', pos, ',um ', 'time delay', time_delta[i], ',s')\n",
    "            print('    left seconds', sum(time_delta) - sum(time_delta[:i+1]))\n",
    "            \n",
    "        time.sleep(time_delta[i])\n",
    "\n",
    "        b = time.monotonic()\n",
    "        times.append(b-a)\n",
    "\n",
    "\n",
    "    delay = np.mean(times)-dt\n",
    "    \n",
    "    device.set_position(to_position)\n",
    "    \n",
    "    return delay\n",
    "\n",
    "\n",
    "def redusing_time_delta_by_delay_time(patch_position, patch_thicknesses, time_delta, delay):\n",
    "    \n",
    "    # function reduses positions, in wich time of delay less than time of the loop, \n",
    "    # in order to exclude unnesesary delays\n",
    "    \n",
    "    \n",
    "    new_pos = []\n",
    "    new_patch_thickness = []\n",
    "    new_ts_delta = []\n",
    "    \n",
    "    for i, td in enumerate(time_delta):\n",
    "        \n",
    "        if td >= 0.85:\n",
    "            \n",
    "            new_pos.append(patch_position[i]) \n",
    "            new_patch_thickness.append(patch_thicknesses[i])\n",
    "            new_ts_delta.append(round(time_delta[i] - delay,2))\n",
    "\n",
    "        \n",
    "    return new_pos, new_patch_thickness, new_ts_delta\n",
    "\n",
    "\n",
    "def shutter_pre_movement():\n",
    "    # from current to 0, (it can be a bit shifted from 0)\n",
    "    # from 0 to 50, from 50 to 0 again\n",
    "    print('in progress...')\n",
    "    not_evaporator_shutter_movement(0, dt = 1, step = 2, progress = False)\n",
    "    not_evaporator_shutter_movement(50, dt = 1, step = 5, progress = False)\n",
    "    not_evaporator_shutter_movement(0, dt = 1, step = 5, progress = False)\n",
    "    print('done')\n",
    "    \n",
    "    \n",
    "def pre_evaporation(patch_position, patch_thicknesses, ts_delta, delay):\n",
    "    \n",
    "    # Now we remove steps time delta == 0s and reduse all others by loop time \n",
    "    pp, pt, tsd = redusing_time_delta_by_delay_time(patch_position, patch_thicknesses, \n",
    "                                                    ts_delta, delay)\n",
    "    \n",
    "    # Moving shutter to start evapor position\n",
    "    _ = not_evaporator_shutter_movement(pp[0], dt = 1, step = 2, progress = True)\n",
    "    \n",
    "    return pp, pt, tsd\n",
    "\n",
    "def evaporation(pp, pt, tsd):\n",
    "    \n",
    "    # Me1 evaporation\n",
    "\n",
    "    moving_of_shutter(pp, tsd)\n",
    "    \n",
    "    \n",
    "def equation(x1,y1,x2,y2):\n",
    "    \n",
    "    k = (y1 - y2) / (x1 - x2)\n",
    "    b = y2 - k * x2\n",
    "\n",
    "    print('y = k*x + b ')\n",
    "    \n",
    "    x = -b/k\n",
    "    print('start position', int(x), 'um')\n",
    "    print('stop position', int(Me1_end_pos_apperture_left_end), 'um')\n",
    "    print('tg = shutter moving rate ', round(k,2), 'um/s')\n",
    "    print('time of evaporation ', round(thickness_right/evap_rate,2), 's')\n",
    "    return round(x,1), round(k,2)\n",
    "\n",
    "\n",
    "def position_time_calc(patch_position,patch_thicknesses):\n",
    "    time_steps = []\n",
    "    time_steps_delta = []\n",
    "    \n",
    "    f = open('Me1.csv','w')\n",
    "    \n",
    "    print('position',  ' ', 'time, min:s ', 'time delta for labview,s')\n",
    "    \n",
    "    for i in range(len(patch_position)):\n",
    "        time = patch_thicknesses[i]/evap_rate\n",
    "        \n",
    "        if len(time_steps)>1:\n",
    "            \n",
    "            time_delta = time - time_steps[-1]\n",
    "        else:\n",
    "            time_delta = time\n",
    "        \n",
    "        \n",
    "        time_steps.append(time)\n",
    "        time_steps_delta.append(round(time_delta,2))\n",
    "        \n",
    "        f.write(str(patch_position[i]))\n",
    "        f.write(',')\n",
    "        f.write(str(time))\n",
    "        f.write(',')\n",
    "        f.write(str(time_delta))\n",
    "        f.write('\\n')\n",
    "    \n",
    "        print(patch_position[i], '       ', time//60, ':', round(time - 60*(time//60),2), '        ',  round(time_delta,2))\n",
    "    \n",
    "        \n",
    "    \n",
    "    f.close()\n",
    "    return time_steps_delta\n",
    "\n",
    "\n",
    "\n",
    "\n",
    "import simpleaudio as sa\n",
    "\n",
    "def sound(x,z):\n",
    "    frequency = x # Our played note will be 440 Hz\n",
    "    fs = 44100  # 44100 samples per second\n",
    "    seconds = z  # Note duration of 3 seconds\n",
    "\n",
    "     # Generate array with seconds*sample_rate steps, ranging between 0 and seconds\n",
    "    t = np.linspace(0, seconds, int(seconds * fs), False)\n",
    "\n",
    "    # Generate a 440 Hz sine wave\n",
    "    note = np.sin(frequency * t * 2 * np.pi)\n",
    "\n",
    "    # Ensure that highest value is in 16-bit range\n",
    "    audio = note * (2**15 - 1) / np.max(np.abs(note))\n",
    "    # Convert to 16-bit data\n",
    "    audio = audio.astype(np.int16)\n",
    "\n",
    "    # Start playback\n",
    "    play_obj = sa.play_buffer(audio, 1, 2, fs)\n",
    "\n",
    "     # Wait for playback to finish before exiting\n",
    "    play_obj.wait_done()\n",
    "\n",
    "\n",
    "def log_time(time = datetime.datetime.now(), name ='time'):\n",
    "    log_file_name = 'Olga_test_' + str(datetime.datetime.today().strftime('%y%m%d') + '_')\n",
    "    \n",
    "    f = open(log_file_name+'.csv','a')\n",
    "\n",
    "    f.write(str(name))\n",
    "    f.write(', ')\n",
    "    f.write(str(time))\n",
    "\n",
    "    f.write('\\n')\n",
    "    f.close()"
   ]
  },
  {
   "cell_type": "code",
   "execution_count": null,
   "metadata": {},
   "outputs": [],
   "source": []
  },
  {
   "cell_type": "markdown",
   "metadata": {},
   "source": [
    "# Task parametrs"
   ]
  },
  {
   "cell_type": "code",
   "execution_count": 3,
   "metadata": {},
   "outputs": [],
   "source": [
    "\n",
    "\n",
    "# Here Svetlanas task \n",
    "# diametr of the nanoparticles is 150nm step between centrs is 2.5 um\n",
    "# 2 metals Au and Pd \n",
    "\n",
    "# with Au set of thicknesses from 0 A to 300 A:\n",
    "\n",
    "\n",
    "patch_thicknesses = [0.0, 0.7, 1.4, 2.0, 2.7, 3.4, 4.1, 4.8, 5.5, 6.2, \n",
    "                     6.9, 7.6, 8.3, 9.0, 9.7, 10.5, 11.2, 11.9, 12.6, \n",
    "                     13.4, 14.1, 14.9, 15.6, 16.4, 17.1, 17.9, 18.6, \n",
    "                     19.4, 20.2, 21.0, 21.8, 22.5, 23.3, 24.2, 25.0, 25.8, 26.6, 27.4, 28.3, 29.1, 30.0]\n",
    "\n",
    "''' \n",
    "\n",
    "patch_thicknesses = [0.0, 0.7, 1.4, 2.0, 2.7, 3.4, 4.1, 4.8, 5.5, 6.2, \n",
    "                     6.9, 7.6, 8.3, 9.0, 9.7, 10.5, 11.2, 11.9, 12.6, \n",
    "                     13.4, 14.1, 14.9, 15.6, 16.4, 17.1, 17.9, 18.6, \n",
    "                     19.4, 20.2, 21.0, 21.8, 22.5, 23.3, 24.2, 25.0, 26.6, 28.3, 30.0] # removed ,25.8, 27.4, 29.1, \n",
    "'''\n",
    "\n",
    "#Me param\n",
    "thickness_left = 0 #nm\n",
    "thickness_right = 30 #nm\n",
    "\n",
    "\n",
    "#pattern parametrs\n",
    "step_between_different_thickneses = 2.5 #um\n",
    "disk_size = 150 #nm\n",
    "\n",
    "\n",
    "step = step_between_different_thickneses\n",
    "evapor_length = step_between_different_thickneses*(len(patch_thicknesses)-1) #um\n",
    "\n"
   ]
  },
  {
   "cell_type": "markdown",
   "metadata": {},
   "source": [
    "# Hardwer parameters"
   ]
  },
  {
   "cell_type": "code",
   "execution_count": 4,
   "metadata": {},
   "outputs": [],
   "source": [
    "#apperture parametrs\n",
    "apperture = 116 #um\n",
    "\n",
    "\n",
    "#shutter parametrs \n",
    "shutter_pos_start = 150.0 #um\n",
    "\n",
    "\n",
    "\n",
    "# movement parametrs\n",
    "shutter_step = 0.4 #um\n",
    "_limit = 280\n",
    "\n",
    "\n",
    "#evaporation rate\n",
    "evap_rate = 0.1 #nm/s \n"
   ]
  },
  {
   "cell_type": "markdown",
   "metadata": {},
   "source": [
    "# Pre calculation"
   ]
  },
  {
   "cell_type": "code",
   "execution_count": 5,
   "metadata": {},
   "outputs": [],
   "source": [
    "# calculation of the position of the etch nanoparticles row\n",
    "\n",
    "patch_position = [shutter_pos_start]\n",
    "\n",
    "\n",
    "for thickness in patch_thicknesses:\n",
    "\n",
    "    patch_position.append(patch_position[-1] + step)\n",
    "    \n",
    "patch_position = patch_position[:-1]"
   ]
  },
  {
   "cell_type": "code",
   "execution_count": 6,
   "metadata": {},
   "outputs": [
    {
     "data": {
      "text/plain": [
       "100.0"
      ]
     },
     "execution_count": 6,
     "metadata": {},
     "output_type": "execute_result"
    }
   ],
   "source": [
    "patch_position[-1] - 150"
   ]
  },
  {
   "cell_type": "code",
   "execution_count": 7,
   "metadata": {},
   "outputs": [
    {
     "data": {
      "text/plain": [
       "41"
      ]
     },
     "execution_count": 7,
     "metadata": {},
     "output_type": "execute_result"
    }
   ],
   "source": [
    "len(patch_position)"
   ]
  },
  {
   "cell_type": "code",
   "execution_count": 8,
   "metadata": {},
   "outputs": [
    {
     "data": {
      "image/png": "[encoded data removed]",
      "text/plain": [
       "<Figure size 1080x504 with 1 Axes>"
      ]
     },
     "metadata": {
      "needs_background": "light"
     },
     "output_type": "display_data"
    }
   ],
   "source": [
    "# Check that it's possible to fit\n",
    "\n",
    "Me1_start_pos_apperture_left_end = shutter_pos_start \n",
    "Me1_start_pos_apperture_right_end = shutter_pos_start + apperture \n",
    "\n",
    "Me1_end_pos_apperture_left_end = shutter_pos_start + evapor_length  \n",
    "Me1_end_pos_apperture_right_end = shutter_pos_start + apperture + evapor_length  \n",
    "\n",
    "\n",
    "Me2_start_pos_apperture_right_end = Me1_end_pos_apperture_left_end\n",
    "Me2_start_pos_apperture_left_end = Me1_end_pos_apperture_left_end - apperture\n",
    "\n",
    "Me2_end_pos_apperture_left_end = Me1_end_pos_apperture_left_end - apperture - evapor_length  \n",
    "Me2_end_pos_apperture_right_end = Me1_end_pos_apperture_left_end - evapor_length\n",
    "\n",
    "\n",
    "\n",
    "fig = plt.figure(figsize=(15,7))\n",
    "ax = fig.add_subplot(111)\n",
    "\n",
    "#apperture Me1\n",
    "plt.plot([Me1_start_pos_apperture_left_end,Me1_start_pos_apperture_right_end], \n",
    "         [thickness_right*1.05,thickness_right*1.05], \n",
    "         linewidth=4.0, c = 'green', alpha = 0.4)\n",
    "\n",
    "plt.plot([Me1_end_pos_apperture_left_end,Me1_end_pos_apperture_right_end], \n",
    "         [thickness_right*1.1,thickness_right*1.1], \n",
    "         linewidth=4.0, c = 'r', alpha = 0.4)\n",
    "''' \n",
    "#apperture Me2\n",
    "plt.plot([Me2_start_pos_apperture_right_end,Me2_start_pos_apperture_left_end], \n",
    "         [thickness_right*1.2,thickness_right*1.2], \n",
    "         linewidth=4.0, c = 'red', alpha = 0.4)\n",
    "\n",
    "plt.plot([Me2_end_pos_apperture_left_end,Me2_end_pos_apperture_right_end], \n",
    "         [thickness_right*1.25,thickness_right*1.25], \n",
    "         linewidth=4.0, c = 'red', alpha = 0.4)\n",
    "'''\n",
    "#apperture limits\n",
    "\n",
    "plt.plot([Me1_end_pos_apperture_left_end,Me1_end_pos_apperture_left_end], \n",
    "         [thickness_right*1.05,0], '--',\n",
    "         linewidth=1,  c = 'k', alpha = 1)\n",
    "\n",
    "plt.plot([Me1_start_pos_apperture_left_end,Me1_start_pos_apperture_left_end], \n",
    "         [thickness_right*1.05,0], '--',\n",
    "         linewidth=1, c = 'k', alpha = 1)\n",
    " \n",
    "plt.text(Me1_end_pos_apperture_left_end -4, 2, str(int(Me1_end_pos_apperture_left_end)), rotation='vertical',)\n",
    "plt.text(Me1_start_pos_apperture_left_end -4, 2, str(int(Me1_start_pos_apperture_left_end)), rotation='vertical',)\n",
    "\n",
    "\n",
    "    \n",
    "#deposition\n",
    "# Trapez first Me\n",
    "x = [shutter_pos_start,shutter_pos_start, shutter_pos_start+evapor_length,shutter_pos_start+evapor_length]\n",
    "y = [0,thickness_left,thickness_right,0]\n",
    "ax.add_patch(patches.Polygon(xy=list(zip(x,y)), color = 'grey', alpha = 0.4))\n",
    "''' \n",
    "# Trapez out\n",
    "x = [0,0, 20,20]\n",
    "y = [0,thickness_right*2,thickness_right*2,0]\n",
    "ax.add_patch(patches.Polygon(xy=list(zip(x,y)), edgecolor = 'b',color = 'grey', alpha = 0.3))\n",
    "\n",
    "x = [275,275, 300,300]\n",
    "y = [0,thickness_right*2,thickness_right*2,0]\n",
    "ax.add_patch(patches.Polygon(xy=list(zip(x,y)), edgecolor = 'b',color = 'grey', alpha = 0.3))\n",
    "'''\n",
    "#ME thickness from patches \n",
    "#plt.plot(patch_position, patch_thicknesses, c = 'b')\n",
    "plt.step(patch_position, patch_thicknesses, where='mid', c = 'b')#, [fmt], *, data=None, where='pre', **kwargs)\n",
    "#plt.step(patch_position_1, patch_thicknesses_1, where='mid', c = 'r')#, [fmt], *, data=None, where='pre', **kwargs)\n",
    "\n",
    "\n",
    "\n",
    "\n",
    "plt.annotate(\"apperture movement\", xy=(shutter_pos_start+apperture+evapor_length,thickness_right*1.15), \n",
    "             xytext=(shutter_pos_start,thickness_right*1.15), arrowprops=dict(arrowstyle=\"->\"))\n",
    "\n",
    "\n",
    "plt.suptitle('Needed deposition parametrs', fontsize=16)\n",
    "plt.legend(['shutter start', 'shutter end', 'start position', 'end position', 'step deposition', 'constant deposition','shutter 2 start', 'shutter 2 end', 'limit 1', \n",
    "           'limit 2', 'from patches', 'metal'])\n",
    "plt.xlabel('shift of shutter, um')\n",
    "plt.ylabel('thickness, nm')\n",
    "plt.xlim([80, 380])\n",
    "plt.ylim([0, thickness_right*2])\n",
    "\n",
    "#plt.xticks([0.15, 0.68, 0.97])\n",
    "\n",
    "plt.show()"
   ]
  },
  {
   "cell_type": "code",
   "execution_count": null,
   "metadata": {},
   "outputs": [],
   "source": []
  },
  {
   "cell_type": "code",
   "execution_count": null,
   "metadata": {},
   "outputs": [],
   "source": []
  },
  {
   "cell_type": "code",
   "execution_count": null,
   "metadata": {},
   "outputs": [],
   "source": []
  },
  {
   "cell_type": "code",
   "execution_count": null,
   "metadata": {},
   "outputs": [],
   "source": []
  },
  {
   "cell_type": "code",
   "execution_count": null,
   "metadata": {},
   "outputs": [],
   "source": []
  },
  {
   "cell_type": "code",
   "execution_count": null,
   "metadata": {},
   "outputs": [],
   "source": []
  },
  {
   "cell_type": "code",
   "execution_count": null,
   "metadata": {},
   "outputs": [],
   "source": []
  },
  {
   "cell_type": "code",
   "execution_count": null,
   "metadata": {},
   "outputs": [],
   "source": []
  },
  {
   "cell_type": "code",
   "execution_count": 9,
   "metadata": {},
   "outputs": [
    {
     "name": "stderr",
     "output_type": "stream",
     "text": [
      "/Users/olgase/.local/lib/python3.7/site-packages/ipykernel_launcher.py:64: UserWarning: Setting the 'color' property will override the edgecolor or facecolor properties.\n",
      "/Users/olgase/.local/lib/python3.7/site-packages/ipykernel_launcher.py:68: UserWarning: Setting the 'color' property will override the edgecolor or facecolor properties.\n"
     ]
    },
    {
     "data": {
      "image/png": "[encoded data removed]",
      "text/plain": [
       "<Figure size 1080x504 with 1 Axes>"
      ]
     },
     "metadata": {
      "needs_background": "light"
     },
     "output_type": "display_data"
    }
   ],
   "source": [
    "# Check that it's possible to fit\n",
    "\n",
    "Me1_start_pos_apperture_left_end = shutter_pos_start \n",
    "Me1_start_pos_apperture_right_end = shutter_pos_start + apperture \n",
    "\n",
    "Me1_end_pos_apperture_left_end = shutter_pos_start + evapor_length  \n",
    "Me1_end_pos_apperture_right_end = shutter_pos_start + apperture + evapor_length  \n",
    "\n",
    "\n",
    "Me2_start_pos_apperture_right_end = Me1_end_pos_apperture_left_end\n",
    "Me2_start_pos_apperture_left_end = Me1_end_pos_apperture_left_end - apperture\n",
    "\n",
    "Me2_end_pos_apperture_left_end = Me1_end_pos_apperture_left_end - apperture - evapor_length  \n",
    "Me2_end_pos_apperture_right_end = Me1_end_pos_apperture_left_end - evapor_length\n",
    "\n",
    "\n",
    "\n",
    "fig = plt.figure(figsize=(15,7))\n",
    "ax = fig.add_subplot(111)\n",
    "\n",
    "#apperture Me1\n",
    "plt.plot([Me1_start_pos_apperture_left_end,Me1_start_pos_apperture_right_end], \n",
    "         [thickness_right*1.05,thickness_right*1.05], \n",
    "         linewidth=4.0, c = 'green', alpha = 0.4)\n",
    "\n",
    "plt.plot([Me1_end_pos_apperture_left_end,Me1_end_pos_apperture_right_end], \n",
    "         [thickness_right*1.1,thickness_right*1.1], \n",
    "         linewidth=4.0, c = 'green', alpha = 0.4)\n",
    "\n",
    "#apperture Me2\n",
    "plt.plot([Me2_start_pos_apperture_right_end,Me2_start_pos_apperture_left_end], \n",
    "         [thickness_right*1.2,thickness_right*1.2], \n",
    "         linewidth=4.0, c = 'red', alpha = 0.4)\n",
    "\n",
    "plt.plot([Me2_end_pos_apperture_left_end,Me2_end_pos_apperture_right_end], \n",
    "         [thickness_right*1.25,thickness_right*1.25], \n",
    "         linewidth=4.0, c = 'red', alpha = 0.4)\n",
    "\n",
    "#apperture limits\n",
    "\n",
    "plt.plot([Me1_end_pos_apperture_left_end,Me1_end_pos_apperture_left_end], \n",
    "         [thickness_right*1.05,0], '--',\n",
    "         linewidth=1,  c = 'k', alpha = 1)\n",
    "\n",
    "plt.plot([Me2_end_pos_apperture_left_end,Me2_end_pos_apperture_left_end], \n",
    "         [thickness_right*1.25,0], '--',\n",
    "         linewidth=1, c = 'k', alpha = 1)\n",
    " \n",
    "plt.text(Me1_end_pos_apperture_left_end -4, 2, str(int(Me1_end_pos_apperture_left_end)), rotation='vertical',)\n",
    "plt.text(Me2_end_pos_apperture_left_end -4, 2, str(int(Me2_end_pos_apperture_left_end)), rotation='vertical',)\n",
    "\n",
    "\n",
    "    \n",
    "#deposition\n",
    "# Trapez first Me\n",
    "x = [shutter_pos_start,shutter_pos_start, shutter_pos_start+evapor_length,shutter_pos_start+evapor_length]\n",
    "y = [0,thickness_left,thickness_right,0]\n",
    "ax.add_patch(patches.Polygon(xy=list(zip(x,y)), color = 'r', alpha = 0.1))\n",
    "\n",
    " \n",
    "# Trapez out\n",
    "x = [0,0, 20,20]\n",
    "y = [0,thickness_right*2,thickness_right*2,0]\n",
    "ax.add_patch(patches.Polygon(xy=list(zip(x,y)), edgecolor = 'b',color = 'grey', alpha = 0.3))\n",
    "\n",
    "x = [275,275, 300,300]\n",
    "y = [0,thickness_right*2,thickness_right*2,0]\n",
    "ax.add_patch(patches.Polygon(xy=list(zip(x,y)), edgecolor = 'b',color = 'grey', alpha = 0.3))\n",
    "\n",
    "#ME thickness from patches \n",
    "#plt.plot(patch_position, patch_thicknesses, c = 'b')\n",
    "plt.step(patch_position, patch_thicknesses, where='mid', c = 'b')#, [fmt], *, data=None, where='pre', **kwargs)\n",
    "#plt.step(patch_position_1, patch_thicknesses_1, where='mid', c = 'r')#, [fmt], *, data=None, where='pre', **kwargs)\n",
    "\n",
    "\n",
    "\n",
    "\n",
    "plt.annotate(\"apperture movement\", xy=(shutter_pos_start+apperture+evapor_length,thickness_right*1.15), \n",
    "             xytext=(shutter_pos_start,thickness_right*1.15), arrowprops=dict(arrowstyle=\"->\"))\n",
    "\n",
    "\n",
    "plt.suptitle('Needed deposition parametrs', fontsize=16)\n",
    "plt.legend(['shutter 1 start', 'shutter 1 end', 'shutter 2 start', 'shutter 2 end', 'limit 1', \n",
    "           'limit 2', 'from patches', 'metal'])\n",
    "plt.xlabel('shift of shutter, um')\n",
    "plt.ylabel('thickness, nm')\n",
    "plt.xlim([0, 300])\n",
    "plt.ylim([0, thickness_right*2])\n",
    "\n",
    "#plt.xticks([0.15, 0.68, 0.97])\n",
    "\n",
    "plt.show()"
   ]
  },
  {
   "cell_type": "markdown",
   "metadata": {},
   "source": [
    "#### Adjustments mostly can be done with changing aperture size\n",
    "#### When all fits into left and right limit, it's time to decide what kind of evaporation will be the best: continuous or stepped\n"
   ]
  },
  {
   "cell_type": "markdown",
   "metadata": {},
   "source": [
    "# Continuous process"
   ]
  },
  {
   "cell_type": "code",
   "execution_count": 10,
   "metadata": {},
   "outputs": [
    {
     "name": "stdout",
     "output_type": "stream",
     "text": [
      "y = k*x + b \n",
      "start position 150 um\n",
      "stop position 250 um\n",
      "tg = shutter moving rate  0.3 um/s\n",
      "time of evaporation  300.0 s\n"
     ]
    }
   ],
   "source": [
    "calc_start = equation(shutter_pos_start, thickness_left, shutter_pos_start+evapor_length, thickness_right)"
   ]
  },
  {
   "cell_type": "code",
   "execution_count": 11,
   "metadata": {},
   "outputs": [
    {
     "data": {
      "text/plain": [
       "\"  \\nprint('Time of first Me evaporation is ' + str(thickness_right/evap_rate))\\nprint('Shutter moving rate is ' , calc_start[1], 'um/s')\\nprint('')\\n\\nshutter_pos_start\\n\\nfor i in range(int(thickness_right/(evap_rate*10))+1):\\n\\n        \\n    print(str(i*10) + '  sec shift = ' + str(shutter_pos_start + round(calc_start[1]*i*10,1)) + ' um')\\n\""
      ]
     },
     "execution_count": 11,
     "metadata": {},
     "output_type": "execute_result"
    }
   ],
   "source": [
    "# Table every 10 sec \n",
    "# For constant moving rate \n",
    "\n",
    "\"\"\"  \n",
    "print('Time of first Me evaporation is ' + str(thickness_right/evap_rate))\n",
    "print('Shutter moving rate is ' , calc_start[1], 'um/s')\n",
    "print('')\n",
    "\n",
    "shutter_pos_start\n",
    "\n",
    "for i in range(int(thickness_right/(evap_rate*10))+1):\n",
    "\n",
    "        \n",
    "    print(str(i*10) + '  sec shift = ' + str(shutter_pos_start + round(calc_start[1]*i*10,1)) + ' um')\n",
    "\"\"\""
   ]
  },
  {
   "cell_type": "markdown",
   "metadata": {},
   "source": [
    "# Stepped process"
   ]
  },
  {
   "cell_type": "code",
   "execution_count": 12,
   "metadata": {},
   "outputs": [],
   "source": [
    "# Moving shutter to start evapor position\n",
    "#_ = not_evaporator_shutter_movement(pp[0], dt = 1, step = 2, progress = False)"
   ]
  },
  {
   "cell_type": "code",
   "execution_count": 13,
   "metadata": {},
   "outputs": [
    {
     "name": "stdout",
     "output_type": "stream",
     "text": [
      "position   time, min:s  time delta for labview,s\n",
      "150.0         0.0 : 0.0          0.0\n",
      "152.5         0.0 : 7.0          7.0\n",
      "155.0         0.0 : 14.0          7.0\n",
      "157.5         0.0 : 20.0          6.0\n",
      "160.0         0.0 : 27.0          7.0\n",
      "162.5         0.0 : 34.0          7.0\n",
      "165.0         0.0 : 41.0          7.0\n",
      "167.5         0.0 : 48.0          7.0\n",
      "170.0         0.0 : 55.0          7.0\n",
      "172.5         1.0 : 2.0          7.0\n",
      "175.0         1.0 : 9.0          7.0\n",
      "177.5         1.0 : 16.0          7.0\n",
      "180.0         1.0 : 23.0          7.0\n",
      "182.5         1.0 : 30.0          7.0\n",
      "185.0         1.0 : 37.0          7.0\n",
      "187.5         1.0 : 45.0          8.0\n",
      "190.0         1.0 : 52.0          7.0\n",
      "192.5         1.0 : 59.0          7.0\n",
      "195.0         2.0 : 6.0          7.0\n",
      "197.5         2.0 : 14.0          8.0\n",
      "200.0         2.0 : 21.0          7.0\n",
      "202.5         2.0 : 29.0          8.0\n",
      "205.0         2.0 : 36.0          7.0\n",
      "207.5         2.0 : 44.0          8.0\n",
      "210.0         2.0 : 51.0          7.0\n",
      "212.5         2.0 : 59.0          8.0\n",
      "215.0         3.0 : 6.0          7.0\n",
      "217.5         3.0 : 14.0          8.0\n",
      "220.0         3.0 : 22.0          8.0\n",
      "222.5         3.0 : 30.0          8.0\n",
      "225.0         3.0 : 38.0          8.0\n",
      "227.5         3.0 : 45.0          7.0\n",
      "230.0         3.0 : 53.0          8.0\n",
      "232.5         4.0 : 2.0          9.0\n",
      "235.0         4.0 : 10.0          8.0\n",
      "237.5         4.0 : 18.0          8.0\n",
      "240.0         4.0 : 26.0          8.0\n",
      "242.5         4.0 : 34.0          8.0\n",
      "245.0         4.0 : 43.0          9.0\n",
      "247.5         4.0 : 51.0          8.0\n",
      "250.0         5.0 : 0.0          9.0\n"
     ]
    }
   ],
   "source": [
    "# Me 1\n",
    "ts_delta_Me1 = position_time_calc(patch_position,patch_thicknesses )\n"
   ]
  },
  {
   "cell_type": "code",
   "execution_count": 14,
   "metadata": {},
   "outputs": [
    {
     "name": "stdout",
     "output_type": "stream",
     "text": [
      "position   time, min:s  time delta for labview,s\n",
      "134.0         0.0 : 0.0          0.0\n",
      "131.5         0.0 : 9.0          9.0\n",
      "129.0         0.0 : 17.0          8.0\n",
      "126.5         0.0 : 26.0          9.0\n",
      "124.0         0.0 : 34.0          8.0\n",
      "121.5         0.0 : 42.0          8.0\n",
      "119.0         0.0 : 50.0          8.0\n",
      "116.5         0.0 : 58.0          8.0\n",
      "114.0         1.0 : 7.0          9.0\n",
      "111.5         1.0 : 15.0          8.0\n",
      "109.0         1.0 : 22.0          7.0\n",
      "106.5         1.0 : 30.0          8.0\n",
      "104.0         1.0 : 38.0          8.0\n",
      "101.5         1.0 : 46.0          8.0\n",
      "99.0         1.0 : 54.0          8.0\n",
      "96.5         2.0 : 1.0          7.0\n",
      "94.0         2.0 : 9.0          8.0\n",
      "91.5         2.0 : 16.0          7.0\n",
      "89.0         2.0 : 24.0          8.0\n",
      "86.5         2.0 : 31.0          7.0\n",
      "84.0         2.0 : 39.0          8.0\n",
      "81.5         2.0 : 46.0          7.0\n",
      "79.0         2.0 : 54.0          8.0\n",
      "76.5         3.0 : 1.0          7.0\n",
      "74.0         3.0 : 8.0          7.0\n",
      "71.5         3.0 : 15.0          7.0\n",
      "69.0         3.0 : 23.0          8.0\n",
      "66.5         3.0 : 30.0          7.0\n",
      "64.0         3.0 : 37.0          7.0\n",
      "61.5         3.0 : 44.0          7.0\n",
      "59.0         3.0 : 51.0          7.0\n",
      "56.5         3.0 : 58.0          7.0\n",
      "54.0         4.0 : 5.0          7.0\n",
      "51.5         4.0 : 12.0          7.0\n",
      "49.0         4.0 : 19.0          7.0\n",
      "46.5         4.0 : 26.0          7.0\n",
      "44.0         4.0 : 33.0          7.0\n",
      "41.5         4.0 : 40.0          7.0\n",
      "39.0         4.0 : 46.0          6.0\n",
      "36.5         4.0 : 53.0          7.0\n",
      "34.0         5.0 : 0.0          7.0\n"
     ]
    }
   ],
   "source": [
    "# Me 2\n",
    "patch_thicknesses_Me2 = []\n",
    "patch_position_Me2 = []\n",
    "sum_thicknesses = []\n",
    "\n",
    "for i in range(len(patch_thicknesses)-1,-1, -1):\n",
    "    \n",
    "    Me2_thicknesses = thickness_right - patch_thicknesses[i]\n",
    "    patch_thicknesses_Me2.append(Me2_thicknesses)\n",
    "    patch_position_Me2.append(patch_position[i] - apperture)\n",
    "    sum_thicknesses.append((patch_thicknesses[i] + Me2_thicknesses))\n",
    "\n",
    "ts_delta_Me2 = position_time_calc(patch_position_Me2,patch_thicknesses_Me2 )"
   ]
  },
  {
   "cell_type": "code",
   "execution_count": 19,
   "metadata": {},
   "outputs": [
    {
     "data": {
      "text/plain": [
       "150.0"
      ]
     },
     "execution_count": 19,
     "metadata": {},
     "output_type": "execute_result"
    }
   ],
   "source": [
    "shutter_pos_start"
   ]
  },
  {
   "cell_type": "code",
   "execution_count": 18,
   "metadata": {},
   "outputs": [
    {
     "name": "stderr",
     "output_type": "stream",
     "text": [
      "/Users/olgase/.local/lib/python3.7/site-packages/ipykernel_launcher.py:64: UserWarning: Setting the 'color' property will override the edgecolor or facecolor properties.\n",
      "/Users/olgase/.local/lib/python3.7/site-packages/ipykernel_launcher.py:68: UserWarning: Setting the 'color' property will override the edgecolor or facecolor properties.\n"
     ]
    },
    {
     "data": {
      "image/png": "[encoded data removed]",
      "text/plain": [
       "<Figure size 1080x504 with 1 Axes>"
      ]
     },
     "metadata": {
      "needs_background": "light"
     },
     "output_type": "display_data"
    }
   ],
   "source": [
    "# Check that it's possible to fit\n",
    "\n",
    "Me1_start_pos_apperture_left_end = shutter_pos_start \n",
    "Me1_start_pos_apperture_right_end = shutter_pos_start + apperture \n",
    "\n",
    "Me1_end_pos_apperture_left_end = shutter_pos_start + evapor_length  \n",
    "Me1_end_pos_apperture_right_end = shutter_pos_start + apperture + evapor_length  \n",
    "\n",
    "\n",
    "Me2_start_pos_apperture_right_end = Me1_end_pos_apperture_left_end\n",
    "Me2_start_pos_apperture_left_end = Me1_end_pos_apperture_left_end - apperture\n",
    "\n",
    "Me2_end_pos_apperture_left_end = Me1_end_pos_apperture_left_end - apperture - evapor_length  \n",
    "Me2_end_pos_apperture_right_end = Me1_end_pos_apperture_left_end - evapor_length\n",
    "\n",
    "\n",
    "\n",
    "fig = plt.figure(figsize=(15,7))\n",
    "ax = fig.add_subplot(111)\n",
    "\n",
    "#apperture Me1\n",
    "plt.plot([Me1_start_pos_apperture_left_end,Me1_start_pos_apperture_right_end], \n",
    "         [thickness_right*1.05,thickness_right*1.05], \n",
    "         linewidth=4.0, c = 'green', alpha = 0.4)\n",
    "\n",
    "plt.plot([Me1_end_pos_apperture_left_end,Me1_end_pos_apperture_right_end], \n",
    "         [thickness_right*1.1,thickness_right*1.1], \n",
    "         linewidth=4.0, c = 'green', alpha = 0.4)\n",
    "\n",
    "#apperture Me2\n",
    "plt.plot([Me2_start_pos_apperture_right_end,Me2_start_pos_apperture_left_end], \n",
    "         [thickness_right*1.2,thickness_right*1.2], \n",
    "         linewidth=4.0, c = 'red', alpha = 0.4)\n",
    "\n",
    "plt.plot([Me2_end_pos_apperture_left_end,Me2_end_pos_apperture_right_end], \n",
    "         [thickness_right*1.25,thickness_right*1.25], \n",
    "         linewidth=4.0, c = 'red', alpha = 0.4)\n",
    "\n",
    "#apperture limits\n",
    "\n",
    "plt.plot([Me1_end_pos_apperture_left_end,Me1_end_pos_apperture_left_end], \n",
    "         [thickness_right*1.05,0], '--',\n",
    "         linewidth=1,  c = 'k', alpha = 1)\n",
    "\n",
    "plt.plot([Me2_end_pos_apperture_left_end,Me2_end_pos_apperture_left_end], \n",
    "         [thickness_right*1.25,0], '--',\n",
    "         linewidth=1, c = 'k', alpha = 1)\n",
    " \n",
    "plt.text(Me1_end_pos_apperture_left_end +2, 2, str(int(Me1_end_pos_apperture_left_end)), rotation='vertical',)\n",
    "plt.text(Me2_end_pos_apperture_left_end -4, 2, str(int(Me2_end_pos_apperture_left_end)), rotation='vertical',)\n",
    "\n",
    "\n",
    "    \n",
    "#deposition\n",
    "# Trapez first Me\n",
    "x = [shutter_pos_start,shutter_pos_start, shutter_pos_start+evapor_length,shutter_pos_start+evapor_length]\n",
    "y = [0,thickness_left,thickness_right,0]\n",
    "ax.add_patch(patches.Polygon(xy=list(zip(x,y)), color = 'r', alpha = 0.1))\n",
    "\n",
    " \n",
    "# Trapez out\n",
    "x = [0,0, 20,20]\n",
    "y = [0,thickness_right*2,thickness_right*2,0]\n",
    "ax.add_patch(patches.Polygon(xy=list(zip(x,y)), edgecolor = 'b',color = 'grey', alpha = 0.3))\n",
    "\n",
    "x = [275,275, 300,300]\n",
    "y = [0,thickness_right*2,thickness_right*2,0]\n",
    "ax.add_patch(patches.Polygon(xy=list(zip(x,y)), edgecolor = 'b',color = 'grey', alpha = 0.3))\n",
    "\n",
    "#ME thickness from patches \n",
    "plt.step(patch_position, patch_thicknesses, where='mid', c = 'b')#, [fmt], *, data=None, where='pre', **kwargs)\n",
    "plt.step(patch_position_Me2 +np.ones(len(patch_position_Me2))*apperture, patch_thicknesses_Me2, where='mid', c = 'r')#, [fmt], *, data=None, where='pre', **kwargs)\n",
    "\n",
    "plt.plot(patch_position, sum_thicknesses,  c = 'violet')\n",
    "\n",
    "\n",
    "\n",
    "\n",
    "\n",
    "\n",
    "\n",
    "plt.annotate(\"apperture movement\", xy=(shutter_pos_start+apperture+evapor_length,thickness_right*1.15), \n",
    "             xytext=(shutter_pos_start,thickness_right*1.15), arrowprops=dict(arrowstyle=\"->\"))\n",
    "\n",
    "\n",
    "plt.suptitle('Needed deposition parametrs', fontsize=16)\n",
    "plt.legend(['shutter 1 start', 'shutter 1 end', 'shutter 2 start', 'shutter 2 end', 'limit 1', \n",
    "           'limit 2', 'Me2', 'Me1'])\n",
    "plt.xlabel('shift of shutter, um')\n",
    "plt.ylabel('thickness, nm')\n",
    "plt.xlim([0, 300])\n",
    "plt.ylim([0, thickness_right*2])\n",
    "\n",
    "#plt.xticks([0.15, 0.68, 0.97])\n",
    "\n",
    "plt.show()\n",
    "#ME thickness from patches \n",
    "#plt.plot(patch_position, patch_thicknesses, c = 'b')\n",
    "\n",
    "\n"
   ]
  },
  {
   "cell_type": "code",
   "execution_count": null,
   "metadata": {},
   "outputs": [],
   "source": []
  },
  {
   "cell_type": "code",
   "execution_count": null,
   "metadata": {},
   "outputs": [],
   "source": []
  }
 ],
 "metadata": {
  "kernelspec": {
   "display_name": "Python 3",
   "language": "python",
   "name": "python3"
  },
  "language_info": {
   "codemirror_mode": {
    "name": "ipython",
    "version": 3
   },
   "file_extension": ".py",
   "mimetype": "text/x-python",
   "name": "python",
   "nbconvert_exporter": "python",
   "pygments_lexer": "ipython3",
   "version": "3.8.5"
  }
 },
 "nbformat": 4,
 "nbformat_minor": 2
}
